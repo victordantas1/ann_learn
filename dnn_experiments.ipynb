{
 "cells": [
  {
   "metadata": {},
   "cell_type": "markdown",
   "source": "# Training Deep Neural Networks",
   "id": "1888fe48d9630787"
  },
  {
   "metadata": {
    "ExecuteTime": {
     "end_time": "2025-08-24T23:16:21.600710Z",
     "start_time": "2025-08-24T23:16:15.649909Z"
    }
   },
   "cell_type": "code",
   "source": [
    "import os\n",
    "os.environ[\"KERAS_BACKEND\"] = \"torch\"\n",
    "import torch\n",
    "import keras\n",
    "print(keras.__version__)"
   ],
   "id": "c9fa80d66b4811e2",
   "outputs": [
    {
     "name": "stdout",
     "output_type": "stream",
     "text": [
      "3.11.3\n"
     ]
    }
   ],
   "execution_count": 1
  },
  {
   "metadata": {
    "ExecuteTime": {
     "end_time": "2025-08-24T23:16:21.662306Z",
     "start_time": "2025-08-24T23:16:21.640643Z"
    }
   },
   "cell_type": "code",
   "source": [
    "if torch.cuda.is_available():\n",
    "    print(f\"GPU detectada: {torch.cuda.get_device_name(0)}\")\n",
    "    print(f\"Número de GPUs disponíveis: {torch.cuda.device_count()}\")\n",
    "else:\n",
    "    print(\"Nenhuma GPU detectada. Usando CPU.\")"
   ],
   "id": "9e0afdcb592d9012",
   "outputs": [
    {
     "name": "stdout",
     "output_type": "stream",
     "text": [
      "GPU detectada: NVIDIA GeForce RTX 3050 6GB Laptop GPU\n",
      "Número de GPUs disponíveis: 1\n"
     ]
    }
   ],
   "execution_count": 2
  },
  {
   "metadata": {},
   "cell_type": "markdown",
   "source": "## Load and Transform data",
   "id": "d176458d9af7c453"
  },
  {
   "cell_type": "code",
   "id": "initial_id",
   "metadata": {
    "collapsed": true,
    "ExecuteTime": {
     "end_time": "2025-08-24T23:16:24.494192Z",
     "start_time": "2025-08-24T23:16:21.671845Z"
    }
   },
   "source": [
    "from keras.utils import to_categorical\n",
    "import numpy as np\n",
    "from sklearn.model_selection import train_test_split\n",
    "\n",
    "# 1. Carregar o dataset\n",
    "# y_train_full ainda está no formato original (ex: [[6], [9], ...])\n",
    "(x_train_full, y_train_full), (x_test, y_test) = keras.datasets.cifar10.load_data()\n",
    "\n",
    "# 2. Pré-processamento das imagens (features)\n",
    "# Achatar (Flatten) e Normalizar as imagens\n",
    "num_pixels = x_train_full.shape[1] * x_train_full.shape[2] * x_train_full.shape[3]\n",
    "x_train_full = x_train_full.reshape(x_train_full.shape[0], num_pixels).astype('float32') / 255.0\n",
    "x_test = x_test.reshape(x_test.shape[0], num_pixels).astype('float32') / 255.0\n",
    "\n",
    "# --- AMOSTRAGEM ALEATÓRIA E ESTRATIFICADA ---\n",
    "# 3. Dividir os dados de treino em treino e validação\n",
    "# Usamos train_test_split do scikit-learn para fazer isso de forma aleatória e estratificada.\n",
    "# test_size=0.2 significa que 20% do x_train_full será usado para validação (10.000 amostras).\n",
    "# stratify=y_train_full garante que a proporção de classes seja a mesma nos dois conjuntos.\n",
    "# random_state=42 garante que a divisão seja a mesma toda vez que o código rodar (reprodutibilidade).\n",
    "x_train, x_val, y_train, y_val = train_test_split(\n",
    "    x_train_full,\n",
    "    y_train_full,\n",
    "    test_size=0.2,\n",
    "    stratify=y_train_full,\n",
    "    random_state=42\n",
    ")\n",
    "\n",
    "# --- PROVA DA ESTRATIFICAÇÃO (OPCIONAL, MAS RECOMENDADO) ---\n",
    "# Vamos verificar a distribuição das classes\n",
    "_, train_counts = np.unique(y_train, return_counts=True)\n",
    "_, val_counts = np.unique(y_val, return_counts=True)\n",
    "\n",
    "print(\"--- Distribuição das Classes ---\")\n",
    "print(\"No conjunto de Treino (40.000 amostras):\", train_counts)\n",
    "print(\"No conjunto de Validação (10.000 amostras):\", val_counts)\n",
    "# Note que os conts de validação são aproximadamente 1/4 dos conts de treino (10k/40k).\n",
    "print(\"-\" * 32)\n",
    "\n",
    "# 4. Pré-processamento dos rótulos (y) - AGORA APLICAMOS O ONE-HOT ENCODING\n",
    "# Fazemos isso depois da divisão\n",
    "num_classes = 10\n",
    "y_train = to_categorical(y_train, num_classes)\n",
    "y_val = to_categorical(y_val, num_classes)\n",
    "y_test = to_categorical(y_test, num_classes)\n",
    "\n",
    "# --- VERIFICAÇÃO FINAL DAS DIMENSÕES ---\n",
    "print(\"\\n--- Dimensões Finais dos Conjuntos ---\")\n",
    "print(\"Conjunto de Treinamento (x):\", x_train.shape)\n",
    "print(\"Conjunto de Treinamento (y):\", y_train.shape)\n",
    "print(\"\\nConjunto de Validação (x):\", x_val.shape)\n",
    "print(\"Conjunto de Validação (y):\", y_val.shape)\n",
    "print(\"\\nConjunto de Teste (x):\", x_test.shape)\n",
    "print(\"Conjunto de Teste (y):\", y_test.shape)\n",
    "print(\"-\" * 37)"
   ],
   "outputs": [
    {
     "name": "stdout",
     "output_type": "stream",
     "text": [
      "--- Distribuição das Classes ---\n",
      "No conjunto de Treino (40.000 amostras): [4000 4000 4000 4000 4000 4000 4000 4000 4000 4000]\n",
      "No conjunto de Validação (10.000 amostras): [1000 1000 1000 1000 1000 1000 1000 1000 1000 1000]\n",
      "--------------------------------\n",
      "\n",
      "--- Dimensões Finais dos Conjuntos ---\n",
      "Conjunto de Treinamento (x): (40000, 3072)\n",
      "Conjunto de Treinamento (y): (40000, 10)\n",
      "\n",
      "Conjunto de Validação (x): (10000, 3072)\n",
      "Conjunto de Validação (y): (10000, 10)\n",
      "\n",
      "Conjunto de Teste (x): (10000, 3072)\n",
      "Conjunto de Teste (y): (10000, 10)\n",
      "-------------------------------------\n"
     ]
    }
   ],
   "execution_count": 3
  },
  {
   "metadata": {},
   "cell_type": "markdown",
   "source": "## Training Same Model with different activation function and initialization",
   "id": "73c0ab9b90c3d681"
  },
  {
   "metadata": {},
   "cell_type": "markdown",
   "source": "### MLP 1 - Sigmoid activation and random initialization",
   "id": "6bb0fc13ca3ecfcd"
  },
  {
   "metadata": {
    "ExecuteTime": {
     "end_time": "2025-08-24T23:16:25.070717Z",
     "start_time": "2025-08-24T23:16:25.056307Z"
    }
   },
   "cell_type": "code",
   "source": "((3072 * 2) - ((3072 * 2) * 0.5)) / 8",
   "id": "9c0b174b2045dd4f",
   "outputs": [
    {
     "data": {
      "text/plain": [
       "384.0"
      ]
     },
     "execution_count": 4,
     "metadata": {},
     "output_type": "execute_result"
    }
   ],
   "execution_count": 4
  },
  {
   "metadata": {
    "ExecuteTime": {
     "end_time": "2025-08-24T23:16:25.476595Z",
     "start_time": "2025-08-24T23:16:25.198681Z"
    }
   },
   "cell_type": "code",
   "source": [
    "from keras import layers\n",
    "model_1 = keras.Sequential([\n",
    "    layers.Input(shape=(3072,)),\n",
    "    layers.Dense(100, activation='sigmoid'),\n",
    "    layers.Dense(100, activation='sigmoid'),\n",
    "    layers.Dense(100, activation='sigmoid'),\n",
    "    layers.Dense(100, activation='sigmoid'),\n",
    "    layers.Dense(100, activation='sigmoid'),\n",
    "    layers.Dense(100, activation='sigmoid'),\n",
    "    layers.Dense(100, activation='sigmoid'),\n",
    "    layers.Dense(100, activation='sigmoid'),\n",
    "    layers.Dense(100, activation='sigmoid'),\n",
    "    layers.Dense(100, activation='sigmoid'),\n",
    "    layers.Dense(100, activation='sigmoid'),\n",
    "    layers.Dense(100, activation='sigmoid'),\n",
    "    layers.Dense(100, activation='sigmoid'),\n",
    "    layers.Dense(100, activation='sigmoid'),\n",
    "    layers.Dense(100, activation='sigmoid'),\n",
    "    layers.Dense(100, activation='sigmoid'),\n",
    "    layers.Dense(100, activation='sigmoid'),\n",
    "    layers.Dense(100, activation='sigmoid'),\n",
    "    layers.Dense(100, activation='sigmoid'),\n",
    "    layers.Dense(100, activation='sigmoid'),\n",
    "    layers.Dense(10, activation='softmax'),\n",
    "])"
   ],
   "id": "59dd86a9b592f1da",
   "outputs": [],
   "execution_count": 5
  },
  {
   "metadata": {},
   "cell_type": "markdown",
   "source": "#### Using SGD Optimizer and Cross Entropy Loss",
   "id": "a9ff6ef880aff38b"
  },
  {
   "metadata": {
    "ExecuteTime": {
     "end_time": "2025-08-24T23:16:25.507498Z",
     "start_time": "2025-08-24T23:16:25.481744Z"
    }
   },
   "cell_type": "code",
   "source": [
    "model_1.compile(\n",
    "    optimizer=keras.optimizers.SGD(),\n",
    "    loss=keras.losses.CategoricalCrossentropy(),\n",
    "    metrics=[keras.metrics.CategoricalAccuracy()],\n",
    ")"
   ],
   "id": "644c0dd0199f0e4",
   "outputs": [],
   "execution_count": 6
  },
  {
   "metadata": {
    "ExecuteTime": {
     "end_time": "2025-08-24T23:17:37.868812Z",
     "start_time": "2025-08-24T23:16:25.525080Z"
    }
   },
   "cell_type": "code",
   "source": [
    "model_1.fit(\n",
    "    x_train,\n",
    "    y_train,\n",
    "    batch_size=64,\n",
    "    epochs=10,\n",
    "    validation_data=(x_val, y_val),\n",
    ")"
   ],
   "id": "47d7a665e633cb07",
   "outputs": [
    {
     "name": "stdout",
     "output_type": "stream",
     "text": [
      "Epoch 1/10\n",
      "\u001B[1m625/625\u001B[0m \u001B[32m━━━━━━━━━━━━━━━━━━━━\u001B[0m\u001B[37m\u001B[0m \u001B[1m7s\u001B[0m 11ms/step - categorical_accuracy: 0.0989 - loss: 2.3070 - val_categorical_accuracy: 0.1000 - val_loss: 2.3033\n",
      "Epoch 2/10\n",
      "\u001B[1m625/625\u001B[0m \u001B[32m━━━━━━━━━━━━━━━━━━━━\u001B[0m\u001B[37m\u001B[0m \u001B[1m7s\u001B[0m 11ms/step - categorical_accuracy: 0.0966 - loss: 2.3038 - val_categorical_accuracy: 0.1000 - val_loss: 2.3033\n",
      "Epoch 3/10\n",
      "\u001B[1m625/625\u001B[0m \u001B[32m━━━━━━━━━━━━━━━━━━━━\u001B[0m\u001B[37m\u001B[0m \u001B[1m7s\u001B[0m 12ms/step - categorical_accuracy: 0.1006 - loss: 2.3036 - val_categorical_accuracy: 0.1000 - val_loss: 2.3033\n",
      "Epoch 4/10\n",
      "\u001B[1m625/625\u001B[0m \u001B[32m━━━━━━━━━━━━━━━━━━━━\u001B[0m\u001B[37m\u001B[0m \u001B[1m7s\u001B[0m 11ms/step - categorical_accuracy: 0.0988 - loss: 2.3036 - val_categorical_accuracy: 0.1000 - val_loss: 2.3036\n",
      "Epoch 5/10\n",
      "\u001B[1m625/625\u001B[0m \u001B[32m━━━━━━━━━━━━━━━━━━━━\u001B[0m\u001B[37m\u001B[0m \u001B[1m7s\u001B[0m 12ms/step - categorical_accuracy: 0.1018 - loss: 2.3036 - val_categorical_accuracy: 0.1000 - val_loss: 2.3035\n",
      "Epoch 6/10\n",
      "\u001B[1m625/625\u001B[0m \u001B[32m━━━━━━━━━━━━━━━━━━━━\u001B[0m\u001B[37m\u001B[0m \u001B[1m7s\u001B[0m 11ms/step - categorical_accuracy: 0.0968 - loss: 2.3037 - val_categorical_accuracy: 0.1000 - val_loss: 2.3031\n",
      "Epoch 7/10\n",
      "\u001B[1m625/625\u001B[0m \u001B[32m━━━━━━━━━━━━━━━━━━━━\u001B[0m\u001B[37m\u001B[0m \u001B[1m7s\u001B[0m 12ms/step - categorical_accuracy: 0.0980 - loss: 2.3037 - val_categorical_accuracy: 0.1000 - val_loss: 2.3031\n",
      "Epoch 8/10\n",
      "\u001B[1m625/625\u001B[0m \u001B[32m━━━━━━━━━━━━━━━━━━━━\u001B[0m\u001B[37m\u001B[0m \u001B[1m7s\u001B[0m 12ms/step - categorical_accuracy: 0.0971 - loss: 2.3037 - val_categorical_accuracy: 0.1000 - val_loss: 2.3030\n",
      "Epoch 9/10\n",
      "\u001B[1m625/625\u001B[0m \u001B[32m━━━━━━━━━━━━━━━━━━━━\u001B[0m\u001B[37m\u001B[0m \u001B[1m7s\u001B[0m 11ms/step - categorical_accuracy: 0.0985 - loss: 2.3036 - val_categorical_accuracy: 0.1000 - val_loss: 2.3040\n",
      "Epoch 10/10\n",
      "\u001B[1m625/625\u001B[0m \u001B[32m━━━━━━━━━━━━━━━━━━━━\u001B[0m\u001B[37m\u001B[0m \u001B[1m7s\u001B[0m 12ms/step - categorical_accuracy: 0.0986 - loss: 2.3038 - val_categorical_accuracy: 0.1000 - val_loss: 2.3031\n"
     ]
    },
    {
     "data": {
      "text/plain": [
       "<keras.src.callbacks.history.History at 0x1859e107b50>"
      ]
     },
     "execution_count": 7,
     "metadata": {},
     "output_type": "execute_result"
    }
   ],
   "execution_count": 7
  },
  {
   "metadata": {
    "ExecuteTime": {
     "end_time": "2025-08-24T23:17:39.856299Z",
     "start_time": "2025-08-24T23:17:37.912156Z"
    }
   },
   "cell_type": "code",
   "source": "model_1.evaluate(x_test, y_test)",
   "id": "13086ee816d83436",
   "outputs": [
    {
     "name": "stdout",
     "output_type": "stream",
     "text": [
      "\u001B[1m313/313\u001B[0m \u001B[32m━━━━━━━━━━━━━━━━━━━━\u001B[0m\u001B[37m\u001B[0m \u001B[1m2s\u001B[0m 6ms/step - categorical_accuracy: 0.1000 - loss: 2.3031\n"
     ]
    },
    {
     "data": {
      "text/plain": [
       "[2.3030810356140137, 0.10000000149011612]"
      ]
     },
     "execution_count": 8,
     "metadata": {},
     "output_type": "execute_result"
    }
   ],
   "execution_count": 8
  },
  {
   "metadata": {},
   "cell_type": "markdown",
   "source": "### MLP 2 - ReLU activation and random initialization",
   "id": "5c7884ee8c362667"
  },
  {
   "metadata": {
    "ExecuteTime": {
     "end_time": "2025-08-24T23:17:39.903534Z",
     "start_time": "2025-08-24T23:17:39.863995Z"
    }
   },
   "cell_type": "code",
   "source": [
    "from keras import layers\n",
    "model_2 = keras.Sequential([\n",
    "    layers.Input(shape=(3072,)),\n",
    "    layers.Dense(100, activation='relu'),\n",
    "    layers.Dense(100, activation='relu'),\n",
    "    layers.Dense(100, activation='relu'),\n",
    "    layers.Dense(100, activation='relu'),\n",
    "    layers.Dense(100, activation='relu'),\n",
    "    layers.Dense(100, activation='relu'),\n",
    "    layers.Dense(100, activation='relu'),\n",
    "    layers.Dense(100, activation='relu'),\n",
    "    layers.Dense(100, activation='relu'),\n",
    "    layers.Dense(100, activation='relu'),\n",
    "    layers.Dense(100, activation='relu'),\n",
    "    layers.Dense(100, activation='relu'),\n",
    "    layers.Dense(100, activation='relu'),\n",
    "    layers.Dense(100, activation='relu'),\n",
    "    layers.Dense(100, activation='relu'),\n",
    "    layers.Dense(100, activation='relu'),\n",
    "    layers.Dense(100, activation='relu'),\n",
    "    layers.Dense(100, activation='relu'),\n",
    "    layers.Dense(100, activation='relu'),\n",
    "    layers.Dense(100, activation='relu'),\n",
    "    layers.Dense(10, activation='softmax'),\n",
    "])"
   ],
   "id": "e119ec584c2ba3fd",
   "outputs": [],
   "execution_count": 9
  },
  {
   "metadata": {
    "ExecuteTime": {
     "end_time": "2025-08-24T23:17:39.934545Z",
     "start_time": "2025-08-24T23:17:39.919511Z"
    }
   },
   "cell_type": "code",
   "source": [
    "model_2.compile(\n",
    "    optimizer=keras.optimizers.SGD(),\n",
    "    loss=keras.losses.CategoricalCrossentropy(),\n",
    "    metrics=[keras.metrics.CategoricalAccuracy()],\n",
    ")"
   ],
   "id": "5c111fd2c7c839bd",
   "outputs": [],
   "execution_count": 10
  },
  {
   "metadata": {
    "ExecuteTime": {
     "end_time": "2025-08-24T23:18:53.615972Z",
     "start_time": "2025-08-24T23:17:39.951761Z"
    }
   },
   "cell_type": "code",
   "source": [
    "model_2.fit(\n",
    "    x_train,\n",
    "    y_train,\n",
    "    batch_size=64,\n",
    "    epochs=10,\n",
    "    validation_data=(x_val, y_val),\n",
    ")"
   ],
   "id": "b36592ba7f13abe7",
   "outputs": [
    {
     "name": "stdout",
     "output_type": "stream",
     "text": [
      "Epoch 1/10\n",
      "\u001B[1m625/625\u001B[0m \u001B[32m━━━━━━━━━━━━━━━━━━━━\u001B[0m\u001B[37m\u001B[0m \u001B[1m7s\u001B[0m 12ms/step - categorical_accuracy: 0.1338 - loss: 2.2977 - val_categorical_accuracy: 0.1710 - val_loss: 2.2844\n",
      "Epoch 2/10\n",
      "\u001B[1m625/625\u001B[0m \u001B[32m━━━━━━━━━━━━━━━━━━━━\u001B[0m\u001B[37m\u001B[0m \u001B[1m7s\u001B[0m 12ms/step - categorical_accuracy: 0.1740 - loss: 2.1867 - val_categorical_accuracy: 0.1975 - val_loss: 2.0747\n",
      "Epoch 3/10\n",
      "\u001B[1m625/625\u001B[0m \u001B[32m━━━━━━━━━━━━━━━━━━━━\u001B[0m\u001B[37m\u001B[0m \u001B[1m7s\u001B[0m 12ms/step - categorical_accuracy: 0.1965 - loss: 2.0714 - val_categorical_accuracy: 0.2048 - val_loss: 2.0317\n",
      "Epoch 4/10\n",
      "\u001B[1m625/625\u001B[0m \u001B[32m━━━━━━━━━━━━━━━━━━━━\u001B[0m\u001B[37m\u001B[0m \u001B[1m8s\u001B[0m 12ms/step - categorical_accuracy: 0.2217 - loss: 2.0207 - val_categorical_accuracy: 0.2518 - val_loss: 1.9589\n",
      "Epoch 5/10\n",
      "\u001B[1m625/625\u001B[0m \u001B[32m━━━━━━━━━━━━━━━━━━━━\u001B[0m\u001B[37m\u001B[0m \u001B[1m7s\u001B[0m 12ms/step - categorical_accuracy: 0.2649 - loss: 1.9395 - val_categorical_accuracy: 0.2535 - val_loss: 1.9701\n",
      "Epoch 6/10\n",
      "\u001B[1m625/625\u001B[0m \u001B[32m━━━━━━━━━━━━━━━━━━━━\u001B[0m\u001B[37m\u001B[0m \u001B[1m8s\u001B[0m 12ms/step - categorical_accuracy: 0.2804 - loss: 1.8921 - val_categorical_accuracy: 0.2854 - val_loss: 1.8783\n",
      "Epoch 7/10\n",
      "\u001B[1m625/625\u001B[0m \u001B[32m━━━━━━━━━━━━━━━━━━━━\u001B[0m\u001B[37m\u001B[0m \u001B[1m7s\u001B[0m 12ms/step - categorical_accuracy: 0.2908 - loss: 1.8640 - val_categorical_accuracy: 0.3001 - val_loss: 1.8406\n",
      "Epoch 8/10\n",
      "\u001B[1m625/625\u001B[0m \u001B[32m━━━━━━━━━━━━━━━━━━━━\u001B[0m\u001B[37m\u001B[0m \u001B[1m7s\u001B[0m 12ms/step - categorical_accuracy: 0.3025 - loss: 1.8385 - val_categorical_accuracy: 0.2826 - val_loss: 1.8927\n",
      "Epoch 9/10\n",
      "\u001B[1m625/625\u001B[0m \u001B[32m━━━━━━━━━━━━━━━━━━━━\u001B[0m\u001B[37m\u001B[0m \u001B[1m7s\u001B[0m 11ms/step - categorical_accuracy: 0.3117 - loss: 1.8150 - val_categorical_accuracy: 0.3210 - val_loss: 1.8328\n",
      "Epoch 10/10\n",
      "\u001B[1m625/625\u001B[0m \u001B[32m━━━━━━━━━━━━━━━━━━━━\u001B[0m\u001B[37m\u001B[0m \u001B[1m7s\u001B[0m 12ms/step - categorical_accuracy: 0.3232 - loss: 1.7897 - val_categorical_accuracy: 0.3325 - val_loss: 1.7620\n"
     ]
    },
    {
     "data": {
      "text/plain": [
       "<keras.src.callbacks.history.History at 0x18587a559f0>"
      ]
     },
     "execution_count": 11,
     "metadata": {},
     "output_type": "execute_result"
    }
   ],
   "execution_count": 11
  },
  {
   "metadata": {
    "ExecuteTime": {
     "end_time": "2025-08-24T23:18:55.746066Z",
     "start_time": "2025-08-24T23:18:53.647863Z"
    }
   },
   "cell_type": "code",
   "source": "model_2.evaluate(x_test, y_test)",
   "id": "1d41a3c49278d2d6",
   "outputs": [
    {
     "name": "stdout",
     "output_type": "stream",
     "text": [
      "\u001B[1m313/313\u001B[0m \u001B[32m━━━━━━━━━━━━━━━━━━━━\u001B[0m\u001B[37m\u001B[0m \u001B[1m2s\u001B[0m 7ms/step - categorical_accuracy: 0.3388 - loss: 1.7441\n"
     ]
    },
    {
     "data": {
      "text/plain": [
       "[1.7441376447677612, 0.33880001306533813]"
      ]
     },
     "execution_count": 12,
     "metadata": {},
     "output_type": "execute_result"
    }
   ],
   "execution_count": 12
  },
  {
   "metadata": {},
   "cell_type": "markdown",
   "source": "### MLP 3 - ReLU activation and He initialization",
   "id": "be4632c37414ac"
  },
  {
   "metadata": {
    "ExecuteTime": {
     "end_time": "2025-08-24T23:18:55.840249Z",
     "start_time": "2025-08-24T23:18:55.756151Z"
    }
   },
   "cell_type": "code",
   "source": [
    "from keras import layers\n",
    "model_3 = keras.Sequential([\n",
    "    layers.Input(shape=(3072,)),\n",
    "    layers.Dense(100, activation='relu', kernel_initializer='he_normal', bias_initializer='he_normal'),\n",
    "    layers.Dense(100, activation='relu', kernel_initializer='he_normal', bias_initializer='he_normal'),\n",
    "    layers.Dense(100, activation='relu', kernel_initializer='he_normal', bias_initializer='he_normal'),\n",
    "    layers.Dense(100, activation='relu', kernel_initializer='he_normal', bias_initializer='he_normal'),\n",
    "    layers.Dense(100, activation='relu', kernel_initializer='he_normal', bias_initializer='he_normal'),\n",
    "    layers.Dense(100, activation='relu', kernel_initializer='he_normal', bias_initializer='he_normal'),\n",
    "    layers.Dense(100, activation='relu', kernel_initializer='he_normal', bias_initializer='he_normal'),\n",
    "    layers.Dense(100, activation='relu', kernel_initializer='he_normal', bias_initializer='he_normal'),\n",
    "    layers.Dense(100, activation='relu', kernel_initializer='he_normal', bias_initializer='he_normal'),\n",
    "    layers.Dense(100, activation='relu', kernel_initializer='he_normal', bias_initializer='he_normal'),\n",
    "    layers.Dense(100, activation='relu', kernel_initializer='he_normal', bias_initializer='he_normal'),\n",
    "    layers.Dense(100, activation='relu', kernel_initializer='he_normal', bias_initializer='he_normal'),\n",
    "    layers.Dense(100, activation='relu', kernel_initializer='he_normal', bias_initializer='he_normal'),\n",
    "    layers.Dense(100, activation='relu', kernel_initializer='he_normal', bias_initializer='he_normal'),\n",
    "    layers.Dense(100, activation='relu', kernel_initializer='he_normal', bias_initializer='he_normal'),\n",
    "    layers.Dense(100, activation='relu', kernel_initializer='he_normal', bias_initializer='he_normal'),\n",
    "    layers.Dense(100, activation='relu', kernel_initializer='he_normal', bias_initializer='he_normal'),\n",
    "    layers.Dense(100, activation='relu', kernel_initializer='he_normal', bias_initializer='he_normal'),\n",
    "    layers.Dense(100, activation='relu', kernel_initializer='he_normal', bias_initializer='he_normal'),\n",
    "    layers.Dense(100, activation='relu', kernel_initializer='he_normal', bias_initializer='he_normal'),\n",
    "    layers.Dense(10, activation='softmax'),\n",
    "])"
   ],
   "id": "f5063b61e5881274",
   "outputs": [],
   "execution_count": 13
  },
  {
   "metadata": {
    "ExecuteTime": {
     "end_time": "2025-08-24T23:18:55.871687Z",
     "start_time": "2025-08-24T23:18:55.857478Z"
    }
   },
   "cell_type": "code",
   "source": [
    "model_3.compile(\n",
    "    optimizer=keras.optimizers.SGD(),\n",
    "    loss=keras.losses.CategoricalCrossentropy(),\n",
    "    metrics=[keras.metrics.CategoricalAccuracy()],\n",
    ")"
   ],
   "id": "2403ae4776f9d49d",
   "outputs": [],
   "execution_count": 14
  },
  {
   "metadata": {
    "ExecuteTime": {
     "end_time": "2025-08-24T23:20:08.694812Z",
     "start_time": "2025-08-24T23:18:55.887613Z"
    }
   },
   "cell_type": "code",
   "source": [
    "model_3.fit(\n",
    "    x_train,\n",
    "    y_train,\n",
    "    batch_size=64,\n",
    "    epochs=10,\n",
    "    validation_data=(x_val, y_val),\n",
    ")"
   ],
   "id": "be97f458dc4e7e5c",
   "outputs": [
    {
     "name": "stdout",
     "output_type": "stream",
     "text": [
      "Epoch 1/10\n",
      "\u001B[1m625/625\u001B[0m \u001B[32m━━━━━━━━━━━━━━━━━━━━\u001B[0m\u001B[37m\u001B[0m \u001B[1m7s\u001B[0m 12ms/step - categorical_accuracy: 0.2372 - loss: 2.0546 - val_categorical_accuracy: 0.2978 - val_loss: 1.9076\n",
      "Epoch 2/10\n",
      "\u001B[1m625/625\u001B[0m \u001B[32m━━━━━━━━━━━━━━━━━━━━\u001B[0m\u001B[37m\u001B[0m \u001B[1m7s\u001B[0m 12ms/step - categorical_accuracy: 0.3191 - loss: 1.8646 - val_categorical_accuracy: 0.3444 - val_loss: 1.8018\n",
      "Epoch 3/10\n",
      "\u001B[1m625/625\u001B[0m \u001B[32m━━━━━━━━━━━━━━━━━━━━\u001B[0m\u001B[37m\u001B[0m \u001B[1m7s\u001B[0m 12ms/step - categorical_accuracy: 0.3548 - loss: 1.7832 - val_categorical_accuracy: 0.3796 - val_loss: 1.7296\n",
      "Epoch 4/10\n",
      "\u001B[1m625/625\u001B[0m \u001B[32m━━━━━━━━━━━━━━━━━━━━\u001B[0m\u001B[37m\u001B[0m \u001B[1m7s\u001B[0m 12ms/step - categorical_accuracy: 0.3728 - loss: 1.7310 - val_categorical_accuracy: 0.3938 - val_loss: 1.6920\n",
      "Epoch 5/10\n",
      "\u001B[1m625/625\u001B[0m \u001B[32m━━━━━━━━━━━━━━━━━━━━\u001B[0m\u001B[37m\u001B[0m \u001B[1m8s\u001B[0m 12ms/step - categorical_accuracy: 0.3911 - loss: 1.6898 - val_categorical_accuracy: 0.3855 - val_loss: 1.6869\n",
      "Epoch 6/10\n",
      "\u001B[1m625/625\u001B[0m \u001B[32m━━━━━━━━━━━━━━━━━━━━\u001B[0m\u001B[37m\u001B[0m \u001B[1m7s\u001B[0m 11ms/step - categorical_accuracy: 0.4026 - loss: 1.6509 - val_categorical_accuracy: 0.4048 - val_loss: 1.6522\n",
      "Epoch 7/10\n",
      "\u001B[1m625/625\u001B[0m \u001B[32m━━━━━━━━━━━━━━━━━━━━\u001B[0m\u001B[37m\u001B[0m \u001B[1m7s\u001B[0m 12ms/step - categorical_accuracy: 0.4139 - loss: 1.6242 - val_categorical_accuracy: 0.3822 - val_loss: 1.7394\n",
      "Epoch 8/10\n",
      "\u001B[1m625/625\u001B[0m \u001B[32m━━━━━━━━━━━━━━━━━━━━\u001B[0m\u001B[37m\u001B[0m \u001B[1m7s\u001B[0m 12ms/step - categorical_accuracy: 0.4235 - loss: 1.5978 - val_categorical_accuracy: 0.3977 - val_loss: 1.6838\n",
      "Epoch 9/10\n",
      "\u001B[1m625/625\u001B[0m \u001B[32m━━━━━━━━━━━━━━━━━━━━\u001B[0m\u001B[37m\u001B[0m \u001B[1m7s\u001B[0m 11ms/step - categorical_accuracy: 0.4324 - loss: 1.5770 - val_categorical_accuracy: 0.4046 - val_loss: 1.6589\n",
      "Epoch 10/10\n",
      "\u001B[1m625/625\u001B[0m \u001B[32m━━━━━━━━━━━━━━━━━━━━\u001B[0m\u001B[37m\u001B[0m \u001B[1m7s\u001B[0m 11ms/step - categorical_accuracy: 0.4384 - loss: 1.5550 - val_categorical_accuracy: 0.4154 - val_loss: 1.6590\n"
     ]
    },
    {
     "data": {
      "text/plain": [
       "<keras.src.callbacks.history.History at 0x185879b21d0>"
      ]
     },
     "execution_count": 15,
     "metadata": {},
     "output_type": "execute_result"
    }
   ],
   "execution_count": 15
  },
  {
   "metadata": {
    "ExecuteTime": {
     "end_time": "2025-08-24T23:20:10.761651Z",
     "start_time": "2025-08-24T23:20:08.727619Z"
    }
   },
   "cell_type": "code",
   "source": "model_3.evaluate(x_test, y_test)",
   "id": "5cd244521a7625ec",
   "outputs": [
    {
     "name": "stdout",
     "output_type": "stream",
     "text": [
      "\u001B[1m313/313\u001B[0m \u001B[32m━━━━━━━━━━━━━━━━━━━━\u001B[0m\u001B[37m\u001B[0m \u001B[1m2s\u001B[0m 6ms/step - categorical_accuracy: 0.4150 - loss: 1.6333\n"
     ]
    },
    {
     "data": {
      "text/plain": [
       "[1.633277177810669, 0.41499999165534973]"
      ]
     },
     "execution_count": 16,
     "metadata": {},
     "output_type": "execute_result"
    }
   ],
   "execution_count": 16
  },
  {
   "metadata": {},
   "cell_type": "markdown",
   "source": "### MLP 4 - LeakyReLU activation and He initialization",
   "id": "e66acd490a4e5a91"
  },
  {
   "metadata": {
    "ExecuteTime": {
     "end_time": "2025-08-24T23:20:10.806894Z",
     "start_time": "2025-08-24T23:20:10.768974Z"
    }
   },
   "cell_type": "code",
   "source": [
    "from keras import layers\n",
    "model_4 = keras.Sequential([\n",
    "    layers.Input(shape=(3072,)),\n",
    "    layers.Dense(100, activation='leaky_relu', kernel_initializer='he_normal', bias_initializer='he_normal'),\n",
    "    layers.Dense(100, activation='leaky_relu', kernel_initializer='he_normal', bias_initializer='he_normal'),\n",
    "    layers.Dense(100, activation='leaky_relu', kernel_initializer='he_normal', bias_initializer='he_normal'),\n",
    "    layers.Dense(100, activation='leaky_relu', kernel_initializer='he_normal', bias_initializer='he_normal'),\n",
    "    layers.Dense(100, activation='leaky_relu', kernel_initializer='he_normal', bias_initializer='he_normal'),\n",
    "    layers.Dense(100, activation='leaky_relu', kernel_initializer='he_normal', bias_initializer='he_normal'),\n",
    "    layers.Dense(100, activation='leaky_relu', kernel_initializer='he_normal', bias_initializer='he_normal'),\n",
    "    layers.Dense(100, activation='leaky_relu', kernel_initializer='he_normal', bias_initializer='he_normal'),\n",
    "    layers.Dense(100, activation='leaky_relu', kernel_initializer='he_normal', bias_initializer='he_normal'),\n",
    "    layers.Dense(100, activation='leaky_relu', kernel_initializer='he_normal', bias_initializer='he_normal'),\n",
    "    layers.Dense(100, activation='leaky_relu', kernel_initializer='he_normal', bias_initializer='he_normal'),\n",
    "    layers.Dense(100, activation='leaky_relu', kernel_initializer='he_normal', bias_initializer='he_normal'),\n",
    "    layers.Dense(100, activation='leaky_relu', kernel_initializer='he_normal', bias_initializer='he_normal'),\n",
    "    layers.Dense(100, activation='leaky_relu', kernel_initializer='he_normal', bias_initializer='he_normal'),\n",
    "    layers.Dense(100, activation='leaky_relu', kernel_initializer='he_normal', bias_initializer='he_normal'),\n",
    "    layers.Dense(100, activation='leaky_relu', kernel_initializer='he_normal', bias_initializer='he_normal'),\n",
    "    layers.Dense(100, activation='leaky_relu', kernel_initializer='he_normal', bias_initializer='he_normal'),\n",
    "    layers.Dense(100, activation='leaky_relu', kernel_initializer='he_normal', bias_initializer='he_normal'),\n",
    "    layers.Dense(100, activation='leaky_relu', kernel_initializer='he_normal', bias_initializer='he_normal'),\n",
    "    layers.Dense(100, activation='leaky_relu', kernel_initializer='he_normal', bias_initializer='he_normal'),\n",
    "    layers.Dense(10, activation='softmax'),\n",
    "])"
   ],
   "id": "eb1bda0cdcdb3c01",
   "outputs": [],
   "execution_count": 17
  },
  {
   "metadata": {
    "ExecuteTime": {
     "end_time": "2025-08-24T23:20:10.837891Z",
     "start_time": "2025-08-24T23:20:10.822761Z"
    }
   },
   "cell_type": "code",
   "source": [
    "model_4.compile(\n",
    "    optimizer=keras.optimizers.SGD(),\n",
    "    loss=keras.losses.CategoricalCrossentropy(),\n",
    "    metrics=[keras.metrics.CategoricalAccuracy()],\n",
    ")"
   ],
   "id": "9d4126455690b682",
   "outputs": [],
   "execution_count": 18
  },
  {
   "metadata": {
    "ExecuteTime": {
     "end_time": "2025-08-24T23:21:28.980023Z",
     "start_time": "2025-08-24T23:20:10.854866Z"
    }
   },
   "cell_type": "code",
   "source": [
    "model_4.fit(\n",
    "    x_train,\n",
    "    y_train,\n",
    "    batch_size=64,\n",
    "    epochs=10,\n",
    "    validation_data=(x_val, y_val),\n",
    ")"
   ],
   "id": "15a41da8d23101e2",
   "outputs": [
    {
     "name": "stdout",
     "output_type": "stream",
     "text": [
      "Epoch 1/10\n",
      "\u001B[1m625/625\u001B[0m \u001B[32m━━━━━━━━━━━━━━━━━━━━\u001B[0m\u001B[37m\u001B[0m \u001B[1m7s\u001B[0m 12ms/step - categorical_accuracy: 0.2594 - loss: 2.0128 - val_categorical_accuracy: 0.3028 - val_loss: 1.9164\n",
      "Epoch 2/10\n",
      "\u001B[1m625/625\u001B[0m \u001B[32m━━━━━━━━━━━━━━━━━━━━\u001B[0m\u001B[37m\u001B[0m \u001B[1m7s\u001B[0m 11ms/step - categorical_accuracy: 0.3393 - loss: 1.8247 - val_categorical_accuracy: 0.3259 - val_loss: 1.8481\n",
      "Epoch 3/10\n",
      "\u001B[1m625/625\u001B[0m \u001B[32m━━━━━━━━━━━━━━━━━━━━\u001B[0m\u001B[37m\u001B[0m \u001B[1m8s\u001B[0m 12ms/step - categorical_accuracy: 0.3711 - loss: 1.7451 - val_categorical_accuracy: 0.3953 - val_loss: 1.6975\n",
      "Epoch 4/10\n",
      "\u001B[1m625/625\u001B[0m \u001B[32m━━━━━━━━━━━━━━━━━━━━\u001B[0m\u001B[37m\u001B[0m \u001B[1m7s\u001B[0m 12ms/step - categorical_accuracy: 0.3907 - loss: 1.6906 - val_categorical_accuracy: 0.3821 - val_loss: 1.7135\n",
      "Epoch 5/10\n",
      "\u001B[1m625/625\u001B[0m \u001B[32m━━━━━━━━━━━━━━━━━━━━\u001B[0m\u001B[37m\u001B[0m \u001B[1m8s\u001B[0m 12ms/step - categorical_accuracy: 0.4123 - loss: 1.6374 - val_categorical_accuracy: 0.3905 - val_loss: 1.7238\n",
      "Epoch 6/10\n",
      "\u001B[1m625/625\u001B[0m \u001B[32m━━━━━━━━━━━━━━━━━━━━\u001B[0m\u001B[37m\u001B[0m \u001B[1m8s\u001B[0m 12ms/step - categorical_accuracy: 0.4189 - loss: 1.6115 - val_categorical_accuracy: 0.3955 - val_loss: 1.6836\n",
      "Epoch 7/10\n",
      "\u001B[1m625/625\u001B[0m \u001B[32m━━━━━━━━━━━━━━━━━━━━\u001B[0m\u001B[37m\u001B[0m \u001B[1m8s\u001B[0m 13ms/step - categorical_accuracy: 0.4338 - loss: 1.5769 - val_categorical_accuracy: 0.4310 - val_loss: 1.5982\n",
      "Epoch 8/10\n",
      "\u001B[1m625/625\u001B[0m \u001B[32m━━━━━━━━━━━━━━━━━━━━\u001B[0m\u001B[37m\u001B[0m \u001B[1m9s\u001B[0m 14ms/step - categorical_accuracy: 0.4437 - loss: 1.5491 - val_categorical_accuracy: 0.4161 - val_loss: 1.6341\n",
      "Epoch 9/10\n",
      "\u001B[1m625/625\u001B[0m \u001B[32m━━━━━━━━━━━━━━━━━━━━\u001B[0m\u001B[37m\u001B[0m \u001B[1m8s\u001B[0m 13ms/step - categorical_accuracy: 0.4520 - loss: 1.5254 - val_categorical_accuracy: 0.4286 - val_loss: 1.6119\n",
      "Epoch 10/10\n",
      "\u001B[1m625/625\u001B[0m \u001B[32m━━━━━━━━━━━━━━━━━━━━\u001B[0m\u001B[37m\u001B[0m \u001B[1m8s\u001B[0m 13ms/step - categorical_accuracy: 0.4589 - loss: 1.5034 - val_categorical_accuracy: 0.4453 - val_loss: 1.5551\n"
     ]
    },
    {
     "data": {
      "text/plain": [
       "<keras.src.callbacks.history.History at 0x185879f2140>"
      ]
     },
     "execution_count": 19,
     "metadata": {},
     "output_type": "execute_result"
    }
   ],
   "execution_count": 19
  },
  {
   "metadata": {
    "ExecuteTime": {
     "end_time": "2025-08-24T23:21:31.391123Z",
     "start_time": "2025-08-24T23:21:29.015516Z"
    }
   },
   "cell_type": "code",
   "source": "model_4.evaluate(x_test, y_test)",
   "id": "ee878f5f312db0dd",
   "outputs": [
    {
     "name": "stdout",
     "output_type": "stream",
     "text": [
      "\u001B[1m313/313\u001B[0m \u001B[32m━━━━━━━━━━━━━━━━━━━━\u001B[0m\u001B[37m\u001B[0m \u001B[1m2s\u001B[0m 8ms/step - categorical_accuracy: 0.4550 - loss: 1.5279\n"
     ]
    },
    {
     "data": {
      "text/plain": [
       "[1.5279316902160645, 0.45500001311302185]"
      ]
     },
     "execution_count": 20,
     "metadata": {},
     "output_type": "execute_result"
    }
   ],
   "execution_count": 20
  },
  {
   "metadata": {},
   "cell_type": "markdown",
   "source": "### MLP 5 - ELU activation and He initialization",
   "id": "201b6d30bdc3be6b"
  },
  {
   "metadata": {
    "ExecuteTime": {
     "end_time": "2025-08-24T23:21:31.484248Z",
     "start_time": "2025-08-24T23:21:31.402367Z"
    }
   },
   "cell_type": "code",
   "source": [
    "from keras import layers\n",
    "\n",
    "model_5 = keras.Sequential([\n",
    "    layers.Input(shape=(3072,)),\n",
    "    layers.Dense(100, activation='elu', kernel_initializer='he_normal', bias_initializer='he_normal'),\n",
    "    layers.Dense(100, activation='elu', kernel_initializer='he_normal', bias_initializer='he_normal'),\n",
    "    layers.Dense(100, activation='elu', kernel_initializer='he_normal', bias_initializer='he_normal'),\n",
    "    layers.Dense(100, activation='elu', kernel_initializer='he_normal', bias_initializer='he_normal'),\n",
    "    layers.Dense(100, activation='elu', kernel_initializer='he_normal', bias_initializer='he_normal'),\n",
    "    layers.Dense(100, activation='elu', kernel_initializer='he_normal', bias_initializer='he_normal'),\n",
    "    layers.Dense(100, activation='elu', kernel_initializer='he_normal', bias_initializer='he_normal'),\n",
    "    layers.Dense(100, activation='elu', kernel_initializer='he_normal', bias_initializer='he_normal'),\n",
    "    layers.Dense(100, activation='elu', kernel_initializer='he_normal', bias_initializer='he_normal'),\n",
    "    layers.Dense(100, activation='elu', kernel_initializer='he_normal', bias_initializer='he_normal'),\n",
    "    layers.Dense(100, activation='elu', kernel_initializer='he_normal', bias_initializer='he_normal'),\n",
    "    layers.Dense(100, activation='elu', kernel_initializer='he_normal', bias_initializer='he_normal'),\n",
    "    layers.Dense(100, activation='elu', kernel_initializer='he_normal', bias_initializer='he_normal'),\n",
    "    layers.Dense(100, activation='elu', kernel_initializer='he_normal', bias_initializer='he_normal'),\n",
    "    layers.Dense(100, activation='elu', kernel_initializer='he_normal', bias_initializer='he_normal'),\n",
    "    layers.Dense(100, activation='elu', kernel_initializer='he_normal', bias_initializer='he_normal'),\n",
    "    layers.Dense(100, activation='elu', kernel_initializer='he_normal', bias_initializer='he_normal'),\n",
    "    layers.Dense(100, activation='elu', kernel_initializer='he_normal', bias_initializer='he_normal'),\n",
    "    layers.Dense(100, activation='elu', kernel_initializer='he_normal', bias_initializer='he_normal'),\n",
    "    layers.Dense(100, activation='elu', kernel_initializer='he_normal', bias_initializer='he_normal'),\n",
    "    layers.Dense(10, activation='softmax'),\n",
    "])"
   ],
   "id": "4fe7799aac7fd5d8",
   "outputs": [],
   "execution_count": 21
  },
  {
   "metadata": {},
   "cell_type": "markdown",
   "source": "### Experiment with different Optimizers",
   "id": "39770357ab70f04d"
  },
  {
   "metadata": {},
   "cell_type": "markdown",
   "source": "#### SGD",
   "id": "c682ca35f7f37dd8"
  },
  {
   "metadata": {
    "ExecuteTime": {
     "end_time": "2025-08-24T23:21:32.104771Z",
     "start_time": "2025-08-24T23:21:31.502147Z"
    }
   },
   "cell_type": "code",
   "source": [
    "model_5.compile(\n",
    "    optimizer=keras.optimizers.SGD(learning_rate=0.001),\n",
    "    loss=keras.losses.CategoricalCrossentropy(),\n",
    "    metrics=[keras.metrics.CategoricalAccuracy()],\n",
    ")"
   ],
   "id": "6ce5e9156bc93e60",
   "outputs": [
    {
     "ename": "ValueError",
     "evalue": "Argument(s) not recognized: {'lr': 0.001}",
     "output_type": "error",
     "traceback": [
      "\u001B[1;31m---------------------------------------------------------------------------\u001B[0m",
      "\u001B[1;31mValueError\u001B[0m                                Traceback (most recent call last)",
      "Cell \u001B[1;32mIn[22], line 2\u001B[0m\n\u001B[0;32m      1\u001B[0m model_5\u001B[38;5;241m.\u001B[39mcompile(\n\u001B[1;32m----> 2\u001B[0m     optimizer\u001B[38;5;241m=\u001B[39m\u001B[43mkeras\u001B[49m\u001B[38;5;241;43m.\u001B[39;49m\u001B[43moptimizers\u001B[49m\u001B[38;5;241;43m.\u001B[39;49m\u001B[43mSGD\u001B[49m\u001B[43m(\u001B[49m\u001B[43mlr\u001B[49m\u001B[38;5;241;43m=\u001B[39;49m\u001B[38;5;241;43m0.001\u001B[39;49m\u001B[43m)\u001B[49m,\n\u001B[0;32m      3\u001B[0m     loss\u001B[38;5;241m=\u001B[39mkeras\u001B[38;5;241m.\u001B[39mlosses\u001B[38;5;241m.\u001B[39mCategoricalCrossentropy(),\n\u001B[0;32m      4\u001B[0m     metrics\u001B[38;5;241m=\u001B[39m[keras\u001B[38;5;241m.\u001B[39mmetrics\u001B[38;5;241m.\u001B[39mCategoricalAccuracy()],\n\u001B[0;32m      5\u001B[0m )\n",
      "File \u001B[1;32mC:\\projects\\ANN_studies\\.venv\\lib\\site-packages\\keras\\src\\backend\\torch\\optimizers\\torch_optimizer.py:34\u001B[0m, in \u001B[0;36mTorchOptimizer.__new__\u001B[1;34m(cls, *args, **kwargs)\u001B[0m\n\u001B[0;32m     21\u001B[0m OPTIMIZERS \u001B[38;5;241m=\u001B[39m {\n\u001B[0;32m     22\u001B[0m     optimizers\u001B[38;5;241m.\u001B[39mAdadelta: torch_adadelta\u001B[38;5;241m.\u001B[39mAdadelta,\n\u001B[0;32m     23\u001B[0m     optimizers\u001B[38;5;241m.\u001B[39mAdagrad: torch_adagrad\u001B[38;5;241m.\u001B[39mAdagrad,\n\u001B[1;32m   (...)\u001B[0m\n\u001B[0;32m     30\u001B[0m     optimizers\u001B[38;5;241m.\u001B[39mSGD: torch_sgd\u001B[38;5;241m.\u001B[39mSGD,\n\u001B[0;32m     31\u001B[0m }\n\u001B[0;32m     33\u001B[0m \u001B[38;5;28;01mif\u001B[39;00m \u001B[38;5;28mcls\u001B[39m \u001B[38;5;129;01min\u001B[39;00m OPTIMIZERS:\n\u001B[1;32m---> 34\u001B[0m     \u001B[38;5;28;01mreturn\u001B[39;00m OPTIMIZERS[\u001B[38;5;28mcls\u001B[39m](\u001B[38;5;241m*\u001B[39margs, \u001B[38;5;241m*\u001B[39m\u001B[38;5;241m*\u001B[39mkwargs)\n\u001B[0;32m     35\u001B[0m \u001B[38;5;28;01mreturn\u001B[39;00m \u001B[38;5;28msuper\u001B[39m()\u001B[38;5;241m.\u001B[39m\u001B[38;5;21m__new__\u001B[39m(\u001B[38;5;28mcls\u001B[39m)\n",
      "File \u001B[1;32mC:\\projects\\ANN_studies\\.venv\\lib\\site-packages\\keras\\src\\optimizers\\sgd.py:60\u001B[0m, in \u001B[0;36mSGD.__init__\u001B[1;34m(self, learning_rate, momentum, nesterov, weight_decay, clipnorm, clipvalue, global_clipnorm, use_ema, ema_momentum, ema_overwrite_frequency, loss_scale_factor, gradient_accumulation_steps, name, **kwargs)\u001B[0m\n\u001B[0;32m     43\u001B[0m \u001B[38;5;28;01mdef\u001B[39;00m\u001B[38;5;250m \u001B[39m\u001B[38;5;21m__init__\u001B[39m(\n\u001B[0;32m     44\u001B[0m     \u001B[38;5;28mself\u001B[39m,\n\u001B[0;32m     45\u001B[0m     learning_rate\u001B[38;5;241m=\u001B[39m\u001B[38;5;241m0.01\u001B[39m,\n\u001B[1;32m   (...)\u001B[0m\n\u001B[0;32m     58\u001B[0m     \u001B[38;5;241m*\u001B[39m\u001B[38;5;241m*\u001B[39mkwargs,\n\u001B[0;32m     59\u001B[0m ):\n\u001B[1;32m---> 60\u001B[0m     \u001B[38;5;28msuper\u001B[39m()\u001B[38;5;241m.\u001B[39m\u001B[38;5;21m__init__\u001B[39m(\n\u001B[0;32m     61\u001B[0m         learning_rate\u001B[38;5;241m=\u001B[39mlearning_rate,\n\u001B[0;32m     62\u001B[0m         name\u001B[38;5;241m=\u001B[39mname,\n\u001B[0;32m     63\u001B[0m         weight_decay\u001B[38;5;241m=\u001B[39mweight_decay,\n\u001B[0;32m     64\u001B[0m         clipnorm\u001B[38;5;241m=\u001B[39mclipnorm,\n\u001B[0;32m     65\u001B[0m         clipvalue\u001B[38;5;241m=\u001B[39mclipvalue,\n\u001B[0;32m     66\u001B[0m         global_clipnorm\u001B[38;5;241m=\u001B[39mglobal_clipnorm,\n\u001B[0;32m     67\u001B[0m         use_ema\u001B[38;5;241m=\u001B[39muse_ema,\n\u001B[0;32m     68\u001B[0m         ema_momentum\u001B[38;5;241m=\u001B[39mema_momentum,\n\u001B[0;32m     69\u001B[0m         ema_overwrite_frequency\u001B[38;5;241m=\u001B[39mema_overwrite_frequency,\n\u001B[0;32m     70\u001B[0m         loss_scale_factor\u001B[38;5;241m=\u001B[39mloss_scale_factor,\n\u001B[0;32m     71\u001B[0m         gradient_accumulation_steps\u001B[38;5;241m=\u001B[39mgradient_accumulation_steps,\n\u001B[0;32m     72\u001B[0m         \u001B[38;5;241m*\u001B[39m\u001B[38;5;241m*\u001B[39mkwargs,\n\u001B[0;32m     73\u001B[0m     )\n\u001B[0;32m     74\u001B[0m     \u001B[38;5;28;01mif\u001B[39;00m \u001B[38;5;129;01mnot\u001B[39;00m \u001B[38;5;28misinstance\u001B[39m(momentum, \u001B[38;5;28mfloat\u001B[39m) \u001B[38;5;129;01mor\u001B[39;00m momentum \u001B[38;5;241m<\u001B[39m \u001B[38;5;241m0\u001B[39m \u001B[38;5;129;01mor\u001B[39;00m momentum \u001B[38;5;241m>\u001B[39m \u001B[38;5;241m1\u001B[39m:\n\u001B[0;32m     75\u001B[0m         \u001B[38;5;28;01mraise\u001B[39;00m \u001B[38;5;167;01mValueError\u001B[39;00m(\u001B[38;5;124m\"\u001B[39m\u001B[38;5;124m`momentum` must be a float between [0, 1].\u001B[39m\u001B[38;5;124m\"\u001B[39m)\n",
      "File \u001B[1;32mC:\\projects\\ANN_studies\\.venv\\lib\\site-packages\\keras\\src\\optimizers\\base_optimizer.py:90\u001B[0m, in \u001B[0;36mBaseOptimizer.__init__\u001B[1;34m(self, learning_rate, weight_decay, clipnorm, clipvalue, global_clipnorm, use_ema, ema_momentum, ema_overwrite_frequency, loss_scale_factor, gradient_accumulation_steps, name, **kwargs)\u001B[0m\n\u001B[0;32m     86\u001B[0m     warnings\u001B[38;5;241m.\u001B[39mwarn(\n\u001B[0;32m     87\u001B[0m         \u001B[38;5;124m\"\u001B[39m\u001B[38;5;124mArgument `decay` is no longer supported and will be ignored.\u001B[39m\u001B[38;5;124m\"\u001B[39m\n\u001B[0;32m     88\u001B[0m     )\n\u001B[0;32m     89\u001B[0m \u001B[38;5;28;01mif\u001B[39;00m kwargs:\n\u001B[1;32m---> 90\u001B[0m     \u001B[38;5;28;01mraise\u001B[39;00m \u001B[38;5;167;01mValueError\u001B[39;00m(\u001B[38;5;124mf\u001B[39m\u001B[38;5;124m\"\u001B[39m\u001B[38;5;124mArgument(s) not recognized: \u001B[39m\u001B[38;5;132;01m{\u001B[39;00mkwargs\u001B[38;5;132;01m}\u001B[39;00m\u001B[38;5;124m\"\u001B[39m)\n\u001B[0;32m     92\u001B[0m \u001B[38;5;28;01mif\u001B[39;00m name \u001B[38;5;129;01mis\u001B[39;00m \u001B[38;5;28;01mNone\u001B[39;00m:\n\u001B[0;32m     93\u001B[0m     name \u001B[38;5;241m=\u001B[39m auto_name(\u001B[38;5;28mself\u001B[39m\u001B[38;5;241m.\u001B[39m\u001B[38;5;18m__class__\u001B[39m\u001B[38;5;241m.\u001B[39m\u001B[38;5;18m__name__\u001B[39m)\n",
      "\u001B[1;31mValueError\u001B[0m: Argument(s) not recognized: {'lr': 0.001}"
     ]
    }
   ],
   "execution_count": 22
  },
  {
   "metadata": {
    "ExecuteTime": {
     "end_time": "2025-08-24T23:21:32.116052700Z",
     "start_time": "2025-08-23T23:22:44.485701Z"
    }
   },
   "cell_type": "code",
   "source": [
    "model_5.fit(\n",
    "    x_train,\n",
    "    y_train,\n",
    "    batch_size=64,\n",
    "    epochs=10,\n",
    "    validation_data=(x_val, y_val),\n",
    ")"
   ],
   "id": "be2c842ce5d7b338",
   "outputs": [
    {
     "name": "stdout",
     "output_type": "stream",
     "text": [
      "Epoch 1/10\n",
      "\u001B[1m625/625\u001B[0m \u001B[32m━━━━━━━━━━━━━━━━━━━━\u001B[0m\u001B[37m\u001B[0m \u001B[1m317s\u001B[0m 508ms/step - categorical_accuracy: 0.1000 - loss: 14.4895 - val_categorical_accuracy: 0.1000 - val_loss: 14.5063\n",
      "Epoch 2/10\n",
      "\u001B[1m625/625\u001B[0m \u001B[32m━━━━━━━━━━━━━━━━━━━━\u001B[0m\u001B[37m\u001B[0m \u001B[1m319s\u001B[0m 510ms/step - categorical_accuracy: 0.1000 - loss: 14.5063 - val_categorical_accuracy: 0.1000 - val_loss: 14.5063\n",
      "Epoch 3/10\n",
      "\u001B[1m625/625\u001B[0m \u001B[32m━━━━━━━━━━━━━━━━━━━━\u001B[0m\u001B[37m\u001B[0m \u001B[1m320s\u001B[0m 512ms/step - categorical_accuracy: 0.1000 - loss: 14.5063 - val_categorical_accuracy: 0.1000 - val_loss: 14.5063\n",
      "Epoch 4/10\n",
      "\u001B[1m625/625\u001B[0m \u001B[32m━━━━━━━━━━━━━━━━━━━━\u001B[0m\u001B[37m\u001B[0m \u001B[1m320s\u001B[0m 513ms/step - categorical_accuracy: 0.1000 - loss: 14.5063 - val_categorical_accuracy: 0.1000 - val_loss: 14.5063\n",
      "Epoch 5/10\n",
      "\u001B[1m625/625\u001B[0m \u001B[32m━━━━━━━━━━━━━━━━━━━━\u001B[0m\u001B[37m\u001B[0m \u001B[1m321s\u001B[0m 514ms/step - categorical_accuracy: 0.1000 - loss: 14.5063 - val_categorical_accuracy: 0.1000 - val_loss: 14.5063\n",
      "Epoch 6/10\n",
      "\u001B[1m625/625\u001B[0m \u001B[32m━━━━━━━━━━━━━━━━━━━━\u001B[0m\u001B[37m\u001B[0m \u001B[1m327s\u001B[0m 523ms/step - categorical_accuracy: 0.1000 - loss: 14.5063 - val_categorical_accuracy: 0.1000 - val_loss: 14.5063\n",
      "Epoch 7/10\n",
      "\u001B[1m625/625\u001B[0m \u001B[32m━━━━━━━━━━━━━━━━━━━━\u001B[0m\u001B[37m\u001B[0m \u001B[1m326s\u001B[0m 521ms/step - categorical_accuracy: 0.1000 - loss: 14.5063 - val_categorical_accuracy: 0.1000 - val_loss: 14.5063\n",
      "Epoch 8/10\n",
      "\u001B[1m625/625\u001B[0m \u001B[32m━━━━━━━━━━━━━━━━━━━━\u001B[0m\u001B[37m\u001B[0m \u001B[1m322s\u001B[0m 515ms/step - categorical_accuracy: 0.1000 - loss: 14.5063 - val_categorical_accuracy: 0.1000 - val_loss: 14.5063\n",
      "Epoch 9/10\n",
      "\u001B[1m625/625\u001B[0m \u001B[32m━━━━━━━━━━━━━━━━━━━━\u001B[0m\u001B[37m\u001B[0m \u001B[1m322s\u001B[0m 515ms/step - categorical_accuracy: 0.1000 - loss: 14.5063 - val_categorical_accuracy: 0.1000 - val_loss: 14.5063\n",
      "Epoch 10/10\n",
      "\u001B[1m625/625\u001B[0m \u001B[32m━━━━━━━━━━━━━━━━━━━━\u001B[0m\u001B[37m\u001B[0m \u001B[1m326s\u001B[0m 521ms/step - categorical_accuracy: 0.1000 - loss: 14.5063 - val_categorical_accuracy: 0.1000 - val_loss: 14.5063\n"
     ]
    },
    {
     "data": {
      "text/plain": [
       "<keras.src.callbacks.history.History at 0x1fd24903fa0>"
      ]
     },
     "execution_count": 23,
     "metadata": {},
     "output_type": "execute_result"
    }
   ],
   "execution_count": 23
  },
  {
   "metadata": {
    "ExecuteTime": {
     "end_time": "2025-08-24T23:21:32.120563400Z",
     "start_time": "2025-08-24T00:16:24.417088Z"
    }
   },
   "cell_type": "code",
   "source": "model_5.evaluate(x_test, y_test)",
   "id": "c71dd9b1ff6ce674",
   "outputs": [
    {
     "name": "stdout",
     "output_type": "stream",
     "text": [
      "\u001B[1m313/313\u001B[0m \u001B[32m━━━━━━━━━━━━━━━━━━━━\u001B[0m\u001B[37m\u001B[0m \u001B[1m21s\u001B[0m 67ms/step - categorical_accuracy: 0.1000 - loss: 14.5063\n"
     ]
    },
    {
     "data": {
      "text/plain": [
       "[14.50626277923584, 0.10000000149011612]"
      ]
     },
     "execution_count": 24,
     "metadata": {},
     "output_type": "execute_result"
    }
   ],
   "execution_count": 24
  },
  {
   "metadata": {},
   "cell_type": "markdown",
   "source": "#### Momentum",
   "id": "cae6c4f9d81052c1"
  },
  {
   "metadata": {
    "ExecuteTime": {
     "end_time": "2025-08-24T23:21:32.121570500Z",
     "start_time": "2025-08-24T00:17:15.071982Z"
    }
   },
   "cell_type": "code",
   "source": [
    "model_5.compile(\n",
    "    optimizer=keras.optimizers.SGD(learning_rate=0.001, momentum=0.9),\n",
    "    loss=keras.losses.CategoricalCrossentropy(),\n",
    "    metrics=[keras.metrics.CategoricalAccuracy()],\n",
    ")"
   ],
   "id": "9e44d8871dea38ba",
   "outputs": [],
   "execution_count": 29
  },
  {
   "metadata": {
    "ExecuteTime": {
     "end_time": "2025-08-24T23:21:32.123321600Z",
     "start_time": "2025-08-24T00:17:15.968037Z"
    }
   },
   "cell_type": "code",
   "source": [
    "model_5.fit(\n",
    "    x_train,\n",
    "    y_train,\n",
    "    batch_size=64,\n",
    "    epochs=10,\n",
    "    validation_data=(x_val, y_val),\n",
    ")"
   ],
   "id": "fb651be4cd3fb040",
   "outputs": [
    {
     "name": "stdout",
     "output_type": "stream",
     "text": [
      "Epoch 1/10\n",
      "\u001B[1m 27/625\u001B[0m \u001B[37m━━━━━━━━━━━━━━━━━━━━\u001B[0m \u001B[1m10:04\u001B[0m 1s/step - categorical_accuracy: 0.1115 - loss: 14.3215"
     ]
    },
    {
     "ename": "KeyboardInterrupt",
     "evalue": "",
     "output_type": "error",
     "traceback": [
      "\u001B[1;31m---------------------------------------------------------------------------\u001B[0m",
      "\u001B[1;31mKeyboardInterrupt\u001B[0m                         Traceback (most recent call last)",
      "Cell \u001B[1;32mIn[30], line 1\u001B[0m\n\u001B[1;32m----> 1\u001B[0m \u001B[43mmodel_5\u001B[49m\u001B[38;5;241;43m.\u001B[39;49m\u001B[43mfit\u001B[49m\u001B[43m(\u001B[49m\n\u001B[0;32m      2\u001B[0m \u001B[43m    \u001B[49m\u001B[43mx_train\u001B[49m\u001B[43m,\u001B[49m\n\u001B[0;32m      3\u001B[0m \u001B[43m    \u001B[49m\u001B[43my_train\u001B[49m\u001B[43m,\u001B[49m\n\u001B[0;32m      4\u001B[0m \u001B[43m    \u001B[49m\u001B[43mbatch_size\u001B[49m\u001B[38;5;241;43m=\u001B[39;49m\u001B[38;5;241;43m64\u001B[39;49m\u001B[43m,\u001B[49m\n\u001B[0;32m      5\u001B[0m \u001B[43m    \u001B[49m\u001B[43mepochs\u001B[49m\u001B[38;5;241;43m=\u001B[39;49m\u001B[38;5;241;43m10\u001B[39;49m\u001B[43m,\u001B[49m\n\u001B[0;32m      6\u001B[0m \u001B[43m    \u001B[49m\u001B[43mvalidation_data\u001B[49m\u001B[38;5;241;43m=\u001B[39;49m\u001B[43m(\u001B[49m\u001B[43mx_val\u001B[49m\u001B[43m,\u001B[49m\u001B[43m \u001B[49m\u001B[43my_val\u001B[49m\u001B[43m)\u001B[49m\u001B[43m,\u001B[49m\n\u001B[0;32m      7\u001B[0m \u001B[43m)\u001B[49m\n",
      "File \u001B[1;32mC:\\projects\\ANN_studies\\.venv\\lib\\site-packages\\keras\\src\\utils\\traceback_utils.py:117\u001B[0m, in \u001B[0;36mfilter_traceback.<locals>.error_handler\u001B[1;34m(*args, **kwargs)\u001B[0m\n\u001B[0;32m    115\u001B[0m filtered_tb \u001B[38;5;241m=\u001B[39m \u001B[38;5;28;01mNone\u001B[39;00m\n\u001B[0;32m    116\u001B[0m \u001B[38;5;28;01mtry\u001B[39;00m:\n\u001B[1;32m--> 117\u001B[0m     \u001B[38;5;28;01mreturn\u001B[39;00m fn(\u001B[38;5;241m*\u001B[39margs, \u001B[38;5;241m*\u001B[39m\u001B[38;5;241m*\u001B[39mkwargs)\n\u001B[0;32m    118\u001B[0m \u001B[38;5;28;01mexcept\u001B[39;00m \u001B[38;5;167;01mException\u001B[39;00m \u001B[38;5;28;01mas\u001B[39;00m e:\n\u001B[0;32m    119\u001B[0m     filtered_tb \u001B[38;5;241m=\u001B[39m _process_traceback_frames(e\u001B[38;5;241m.\u001B[39m__traceback__)\n",
      "File \u001B[1;32mC:\\projects\\ANN_studies\\.venv\\lib\\site-packages\\keras\\src\\backend\\torch\\trainer.py:263\u001B[0m, in \u001B[0;36mTorchTrainer.fit\u001B[1;34m(self, x, y, batch_size, epochs, verbose, callbacks, validation_split, validation_data, shuffle, class_weight, sample_weight, initial_epoch, steps_per_epoch, validation_steps, validation_batch_size, validation_freq)\u001B[0m\n\u001B[0;32m    259\u001B[0m \u001B[38;5;28;01mfor\u001B[39;00m begin_step, end_step, data \u001B[38;5;129;01min\u001B[39;00m epoch_iterator:\n\u001B[0;32m    260\u001B[0m     \u001B[38;5;66;03m# Callbacks\u001B[39;00m\n\u001B[0;32m    261\u001B[0m     callbacks\u001B[38;5;241m.\u001B[39mon_train_batch_begin(begin_step)\n\u001B[1;32m--> 263\u001B[0m     logs \u001B[38;5;241m=\u001B[39m \u001B[38;5;28;43mself\u001B[39;49m\u001B[38;5;241;43m.\u001B[39;49m\u001B[43mtrain_function\u001B[49m\u001B[43m(\u001B[49m\u001B[43mdata\u001B[49m\u001B[43m)\u001B[49m\n\u001B[0;32m    265\u001B[0m     \u001B[38;5;66;03m# Callbacks\u001B[39;00m\n\u001B[0;32m    266\u001B[0m     callbacks\u001B[38;5;241m.\u001B[39mon_train_batch_end(end_step, logs)\n",
      "File \u001B[1;32mC:\\projects\\ANN_studies\\.venv\\lib\\site-packages\\keras\\src\\backend\\torch\\trainer.py:118\u001B[0m, in \u001B[0;36mTorchTrainer.make_train_function.<locals>.one_step_on_data\u001B[1;34m(data)\u001B[0m\n\u001B[0;32m    116\u001B[0m \u001B[38;5;250m\u001B[39m\u001B[38;5;124;03m\"\"\"Runs a single training step on a batch of data.\"\"\"\u001B[39;00m\n\u001B[0;32m    117\u001B[0m data \u001B[38;5;241m=\u001B[39m data[\u001B[38;5;241m0\u001B[39m]\n\u001B[1;32m--> 118\u001B[0m \u001B[38;5;28;01mreturn\u001B[39;00m \u001B[38;5;28;43mself\u001B[39;49m\u001B[38;5;241;43m.\u001B[39;49m\u001B[43mtrain_step\u001B[49m\u001B[43m(\u001B[49m\u001B[43mdata\u001B[49m\u001B[43m)\u001B[49m\n",
      "File \u001B[1;32mC:\\projects\\ANN_studies\\.venv\\lib\\site-packages\\keras\\src\\backend\\torch\\trainer.py:73\u001B[0m, in \u001B[0;36mTorchTrainer.train_step\u001B[1;34m(self, data)\u001B[0m\n\u001B[0;32m     71\u001B[0m     \u001B[38;5;66;03m# Update weights\u001B[39;00m\n\u001B[0;32m     72\u001B[0m     \u001B[38;5;28;01mwith\u001B[39;00m torch\u001B[38;5;241m.\u001B[39mno_grad():\n\u001B[1;32m---> 73\u001B[0m         \u001B[38;5;28;43mself\u001B[39;49m\u001B[38;5;241;43m.\u001B[39;49m\u001B[43moptimizer\u001B[49m\u001B[38;5;241;43m.\u001B[39;49m\u001B[43mapply\u001B[49m\u001B[43m(\u001B[49m\u001B[43mgradients\u001B[49m\u001B[43m,\u001B[49m\u001B[43m \u001B[49m\u001B[43mtrainable_weights\u001B[49m\u001B[43m)\u001B[49m\n\u001B[0;32m     74\u001B[0m \u001B[38;5;28;01melse\u001B[39;00m:\n\u001B[0;32m     75\u001B[0m     warnings\u001B[38;5;241m.\u001B[39mwarn(\u001B[38;5;124m\"\u001B[39m\u001B[38;5;124mThe model does not have any trainable weights.\u001B[39m\u001B[38;5;124m\"\u001B[39m)\n",
      "File \u001B[1;32mC:\\projects\\ANN_studies\\.venv\\lib\\site-packages\\keras\\src\\optimizers\\base_optimizer.py:534\u001B[0m, in \u001B[0;36mBaseOptimizer.apply\u001B[1;34m(self, grads, trainable_variables)\u001B[0m\n\u001B[0;32m    531\u001B[0m                 variable\u001B[38;5;241m.\u001B[39massign(variable\u001B[38;5;241m.\u001B[39mconstraint(variable))\n\u001B[0;32m    533\u001B[0m \u001B[38;5;66;03m# Update iteration counter.\u001B[39;00m\n\u001B[1;32m--> 534\u001B[0m \u001B[38;5;28;43mself\u001B[39;49m\u001B[38;5;241;43m.\u001B[39;49m\u001B[43m_iterations\u001B[49m\u001B[38;5;241;43m.\u001B[39;49m\u001B[43massign_add\u001B[49m\u001B[43m(\u001B[49m\u001B[38;5;241;43m1\u001B[39;49m\u001B[43m)\u001B[49m\n",
      "File \u001B[1;32mC:\\projects\\ANN_studies\\.venv\\lib\\site-packages\\keras\\src\\backend\\common\\variables.py:297\u001B[0m, in \u001B[0;36mVariable.assign_add\u001B[1;34m(self, value)\u001B[0m\n\u001B[0;32m    296\u001B[0m \u001B[38;5;28;01mdef\u001B[39;00m\u001B[38;5;250m \u001B[39m\u001B[38;5;21massign_add\u001B[39m(\u001B[38;5;28mself\u001B[39m, value):\n\u001B[1;32m--> 297\u001B[0m     \u001B[38;5;28;01mreturn\u001B[39;00m \u001B[38;5;28mself\u001B[39m\u001B[38;5;241m.\u001B[39massign(\u001B[38;5;28;43mself\u001B[39;49m\u001B[43m \u001B[49m\u001B[38;5;241;43m+\u001B[39;49m\u001B[43m \u001B[49m\u001B[43mvalue\u001B[49m)\n",
      "File \u001B[1;32mC:\\projects\\ANN_studies\\.venv\\lib\\site-packages\\keras\\src\\backend\\common\\variables.py:481\u001B[0m, in \u001B[0;36mVariable.__add__\u001B[1;34m(self, other)\u001B[0m\n\u001B[0;32m    480\u001B[0m \u001B[38;5;28;01mdef\u001B[39;00m\u001B[38;5;250m \u001B[39m\u001B[38;5;21m__add__\u001B[39m(\u001B[38;5;28mself\u001B[39m, other):\n\u001B[1;32m--> 481\u001B[0m     \u001B[38;5;28;01mreturn\u001B[39;00m \u001B[43mbackend\u001B[49m\u001B[38;5;241;43m.\u001B[39;49m\u001B[43mnumpy\u001B[49m\u001B[38;5;241;43m.\u001B[39;49m\u001B[43madd\u001B[49m\u001B[43m(\u001B[49m\u001B[38;5;28;43mself\u001B[39;49m\u001B[38;5;241;43m.\u001B[39;49m\u001B[43mvalue\u001B[49m\u001B[43m,\u001B[49m\u001B[43m \u001B[49m\u001B[43mother\u001B[49m\u001B[43m)\u001B[49m\n",
      "File \u001B[1;32mC:\\projects\\ANN_studies\\.venv\\lib\\site-packages\\keras\\src\\backend\\torch\\numpy.py:69\u001B[0m, in \u001B[0;36madd\u001B[1;34m(x1, x2)\u001B[0m\n\u001B[0;32m     67\u001B[0m \u001B[38;5;28;01mdef\u001B[39;00m\u001B[38;5;250m \u001B[39m\u001B[38;5;21madd\u001B[39m(x1, x2):\n\u001B[0;32m     68\u001B[0m     x1 \u001B[38;5;241m=\u001B[39m convert_to_tensor(x1)\n\u001B[1;32m---> 69\u001B[0m     x2 \u001B[38;5;241m=\u001B[39m \u001B[43mconvert_to_tensor\u001B[49m\u001B[43m(\u001B[49m\u001B[43mx2\u001B[49m\u001B[43m)\u001B[49m\n\u001B[0;32m     70\u001B[0m     \u001B[38;5;28;01mreturn\u001B[39;00m torch\u001B[38;5;241m.\u001B[39madd(x1, x2)\n",
      "File \u001B[1;32mC:\\projects\\ANN_studies\\.venv\\lib\\site-packages\\keras\\src\\backend\\torch\\core.py:213\u001B[0m, in \u001B[0;36mconvert_to_tensor\u001B[1;34m(x, dtype, sparse, ragged)\u001B[0m\n\u001B[0;32m    211\u001B[0m     \u001B[38;5;28;01mreturn\u001B[39;00m torch\u001B[38;5;241m.\u001B[39mas_tensor(x, dtype\u001B[38;5;241m=\u001B[39mtorch\u001B[38;5;241m.\u001B[39mbool, device\u001B[38;5;241m=\u001B[39mget_device())\n\u001B[0;32m    212\u001B[0m \u001B[38;5;28;01melif\u001B[39;00m \u001B[38;5;28misinstance\u001B[39m(x, \u001B[38;5;28mint\u001B[39m):\n\u001B[1;32m--> 213\u001B[0m     \u001B[38;5;28;01mreturn\u001B[39;00m \u001B[43mtorch\u001B[49m\u001B[38;5;241;43m.\u001B[39;49m\u001B[43mas_tensor\u001B[49m\u001B[43m(\u001B[49m\u001B[43mx\u001B[49m\u001B[43m,\u001B[49m\u001B[43m \u001B[49m\u001B[43mdtype\u001B[49m\u001B[38;5;241;43m=\u001B[39;49m\u001B[43mtorch\u001B[49m\u001B[38;5;241;43m.\u001B[39;49m\u001B[43mint32\u001B[49m\u001B[43m,\u001B[49m\u001B[43m \u001B[49m\u001B[43mdevice\u001B[49m\u001B[38;5;241;43m=\u001B[39;49m\u001B[43mget_device\u001B[49m\u001B[43m(\u001B[49m\u001B[43m)\u001B[49m\u001B[43m)\u001B[49m\n\u001B[0;32m    214\u001B[0m \u001B[38;5;28;01melif\u001B[39;00m \u001B[38;5;28misinstance\u001B[39m(x, \u001B[38;5;28mfloat\u001B[39m):\n\u001B[0;32m    215\u001B[0m     \u001B[38;5;28;01mreturn\u001B[39;00m torch\u001B[38;5;241m.\u001B[39mas_tensor(\n\u001B[0;32m    216\u001B[0m         x, dtype\u001B[38;5;241m=\u001B[39mto_torch_dtype(floatx()), device\u001B[38;5;241m=\u001B[39mget_device()\n\u001B[0;32m    217\u001B[0m     )\n",
      "\u001B[1;31mKeyboardInterrupt\u001B[0m: "
     ]
    }
   ],
   "execution_count": 30
  },
  {
   "metadata": {},
   "cell_type": "code",
   "outputs": [],
   "execution_count": null,
   "source": "model_5.evaluate(x_test, y_test)",
   "id": "4a4b514045d99456"
  },
  {
   "metadata": {},
   "cell_type": "markdown",
   "source": "#### RmsProp",
   "id": "aff68c441fc5d582"
  },
  {
   "metadata": {
    "ExecuteTime": {
     "end_time": "2025-08-24T23:21:32.125832Z",
     "start_time": "2025-08-24T00:17:54.637993Z"
    }
   },
   "cell_type": "code",
   "source": [
    "model_5.compile(\n",
    "    optimizer=keras.optimizers.RMSprop(learning_rate=0.001, rho=0.9),\n",
    "    loss=keras.losses.CategoricalCrossentropy(),\n",
    "    metrics=[keras.metrics.CategoricalAccuracy()],\n",
    ")"
   ],
   "id": "e1569f69d4c80bec",
   "outputs": [],
   "execution_count": 32
  },
  {
   "metadata": {
    "ExecuteTime": {
     "end_time": "2025-08-24T23:21:32.127837Z",
     "start_time": "2025-08-24T00:17:56.553818Z"
    }
   },
   "cell_type": "code",
   "source": [
    "model_5.fit(\n",
    "    x_train,\n",
    "    y_train,\n",
    "    batch_size=64,\n",
    "    epochs=10,\n",
    "    validation_data=(x_val, y_val),\n",
    ")"
   ],
   "id": "d4cad2cae6cc9a2d",
   "outputs": [
    {
     "name": "stdout",
     "output_type": "stream",
     "text": [
      "Epoch 1/10\n",
      "\u001B[1m 14/625\u001B[0m \u001B[37m━━━━━━━━━━━━━━━━━━━━\u001B[0m \u001B[1m19:13\u001B[0m 2s/step - categorical_accuracy: 0.0986 - loss: 14.5290"
     ]
    },
    {
     "ename": "KeyboardInterrupt",
     "evalue": "",
     "output_type": "error",
     "traceback": [
      "\u001B[1;31m---------------------------------------------------------------------------\u001B[0m",
      "\u001B[1;31mKeyboardInterrupt\u001B[0m                         Traceback (most recent call last)",
      "Cell \u001B[1;32mIn[33], line 1\u001B[0m\n\u001B[1;32m----> 1\u001B[0m \u001B[43mmodel_5\u001B[49m\u001B[38;5;241;43m.\u001B[39;49m\u001B[43mfit\u001B[49m\u001B[43m(\u001B[49m\n\u001B[0;32m      2\u001B[0m \u001B[43m    \u001B[49m\u001B[43mx_train\u001B[49m\u001B[43m,\u001B[49m\n\u001B[0;32m      3\u001B[0m \u001B[43m    \u001B[49m\u001B[43my_train\u001B[49m\u001B[43m,\u001B[49m\n\u001B[0;32m      4\u001B[0m \u001B[43m    \u001B[49m\u001B[43mbatch_size\u001B[49m\u001B[38;5;241;43m=\u001B[39;49m\u001B[38;5;241;43m64\u001B[39;49m\u001B[43m,\u001B[49m\n\u001B[0;32m      5\u001B[0m \u001B[43m    \u001B[49m\u001B[43mepochs\u001B[49m\u001B[38;5;241;43m=\u001B[39;49m\u001B[38;5;241;43m10\u001B[39;49m\u001B[43m,\u001B[49m\n\u001B[0;32m      6\u001B[0m \u001B[43m    \u001B[49m\u001B[43mvalidation_data\u001B[49m\u001B[38;5;241;43m=\u001B[39;49m\u001B[43m(\u001B[49m\u001B[43mx_val\u001B[49m\u001B[43m,\u001B[49m\u001B[43m \u001B[49m\u001B[43my_val\u001B[49m\u001B[43m)\u001B[49m\u001B[43m,\u001B[49m\n\u001B[0;32m      7\u001B[0m \u001B[43m)\u001B[49m\n",
      "File \u001B[1;32mC:\\projects\\ANN_studies\\.venv\\lib\\site-packages\\keras\\src\\utils\\traceback_utils.py:117\u001B[0m, in \u001B[0;36mfilter_traceback.<locals>.error_handler\u001B[1;34m(*args, **kwargs)\u001B[0m\n\u001B[0;32m    115\u001B[0m filtered_tb \u001B[38;5;241m=\u001B[39m \u001B[38;5;28;01mNone\u001B[39;00m\n\u001B[0;32m    116\u001B[0m \u001B[38;5;28;01mtry\u001B[39;00m:\n\u001B[1;32m--> 117\u001B[0m     \u001B[38;5;28;01mreturn\u001B[39;00m fn(\u001B[38;5;241m*\u001B[39margs, \u001B[38;5;241m*\u001B[39m\u001B[38;5;241m*\u001B[39mkwargs)\n\u001B[0;32m    118\u001B[0m \u001B[38;5;28;01mexcept\u001B[39;00m \u001B[38;5;167;01mException\u001B[39;00m \u001B[38;5;28;01mas\u001B[39;00m e:\n\u001B[0;32m    119\u001B[0m     filtered_tb \u001B[38;5;241m=\u001B[39m _process_traceback_frames(e\u001B[38;5;241m.\u001B[39m__traceback__)\n",
      "File \u001B[1;32mC:\\projects\\ANN_studies\\.venv\\lib\\site-packages\\keras\\src\\backend\\torch\\trainer.py:263\u001B[0m, in \u001B[0;36mTorchTrainer.fit\u001B[1;34m(self, x, y, batch_size, epochs, verbose, callbacks, validation_split, validation_data, shuffle, class_weight, sample_weight, initial_epoch, steps_per_epoch, validation_steps, validation_batch_size, validation_freq)\u001B[0m\n\u001B[0;32m    259\u001B[0m \u001B[38;5;28;01mfor\u001B[39;00m begin_step, end_step, data \u001B[38;5;129;01min\u001B[39;00m epoch_iterator:\n\u001B[0;32m    260\u001B[0m     \u001B[38;5;66;03m# Callbacks\u001B[39;00m\n\u001B[0;32m    261\u001B[0m     callbacks\u001B[38;5;241m.\u001B[39mon_train_batch_begin(begin_step)\n\u001B[1;32m--> 263\u001B[0m     logs \u001B[38;5;241m=\u001B[39m \u001B[38;5;28;43mself\u001B[39;49m\u001B[38;5;241;43m.\u001B[39;49m\u001B[43mtrain_function\u001B[49m\u001B[43m(\u001B[49m\u001B[43mdata\u001B[49m\u001B[43m)\u001B[49m\n\u001B[0;32m    265\u001B[0m     \u001B[38;5;66;03m# Callbacks\u001B[39;00m\n\u001B[0;32m    266\u001B[0m     callbacks\u001B[38;5;241m.\u001B[39mon_train_batch_end(end_step, logs)\n",
      "File \u001B[1;32mC:\\projects\\ANN_studies\\.venv\\lib\\site-packages\\keras\\src\\backend\\torch\\trainer.py:118\u001B[0m, in \u001B[0;36mTorchTrainer.make_train_function.<locals>.one_step_on_data\u001B[1;34m(data)\u001B[0m\n\u001B[0;32m    116\u001B[0m \u001B[38;5;250m\u001B[39m\u001B[38;5;124;03m\"\"\"Runs a single training step on a batch of data.\"\"\"\u001B[39;00m\n\u001B[0;32m    117\u001B[0m data \u001B[38;5;241m=\u001B[39m data[\u001B[38;5;241m0\u001B[39m]\n\u001B[1;32m--> 118\u001B[0m \u001B[38;5;28;01mreturn\u001B[39;00m \u001B[38;5;28;43mself\u001B[39;49m\u001B[38;5;241;43m.\u001B[39;49m\u001B[43mtrain_step\u001B[49m\u001B[43m(\u001B[49m\u001B[43mdata\u001B[49m\u001B[43m)\u001B[49m\n",
      "File \u001B[1;32mC:\\projects\\ANN_studies\\.venv\\lib\\site-packages\\keras\\src\\backend\\torch\\trainer.py:73\u001B[0m, in \u001B[0;36mTorchTrainer.train_step\u001B[1;34m(self, data)\u001B[0m\n\u001B[0;32m     71\u001B[0m     \u001B[38;5;66;03m# Update weights\u001B[39;00m\n\u001B[0;32m     72\u001B[0m     \u001B[38;5;28;01mwith\u001B[39;00m torch\u001B[38;5;241m.\u001B[39mno_grad():\n\u001B[1;32m---> 73\u001B[0m         \u001B[38;5;28;43mself\u001B[39;49m\u001B[38;5;241;43m.\u001B[39;49m\u001B[43moptimizer\u001B[49m\u001B[38;5;241;43m.\u001B[39;49m\u001B[43mapply\u001B[49m\u001B[43m(\u001B[49m\u001B[43mgradients\u001B[49m\u001B[43m,\u001B[49m\u001B[43m \u001B[49m\u001B[43mtrainable_weights\u001B[49m\u001B[43m)\u001B[49m\n\u001B[0;32m     74\u001B[0m \u001B[38;5;28;01melse\u001B[39;00m:\n\u001B[0;32m     75\u001B[0m     warnings\u001B[38;5;241m.\u001B[39mwarn(\u001B[38;5;124m\"\u001B[39m\u001B[38;5;124mThe model does not have any trainable weights.\u001B[39m\u001B[38;5;124m\"\u001B[39m)\n",
      "File \u001B[1;32mC:\\projects\\ANN_studies\\.venv\\lib\\site-packages\\keras\\src\\optimizers\\base_optimizer.py:534\u001B[0m, in \u001B[0;36mBaseOptimizer.apply\u001B[1;34m(self, grads, trainable_variables)\u001B[0m\n\u001B[0;32m    531\u001B[0m                 variable\u001B[38;5;241m.\u001B[39massign(variable\u001B[38;5;241m.\u001B[39mconstraint(variable))\n\u001B[0;32m    533\u001B[0m \u001B[38;5;66;03m# Update iteration counter.\u001B[39;00m\n\u001B[1;32m--> 534\u001B[0m \u001B[38;5;28;43mself\u001B[39;49m\u001B[38;5;241;43m.\u001B[39;49m\u001B[43m_iterations\u001B[49m\u001B[38;5;241;43m.\u001B[39;49m\u001B[43massign_add\u001B[49m\u001B[43m(\u001B[49m\u001B[38;5;241;43m1\u001B[39;49m\u001B[43m)\u001B[49m\n",
      "File \u001B[1;32mC:\\projects\\ANN_studies\\.venv\\lib\\site-packages\\keras\\src\\backend\\common\\variables.py:297\u001B[0m, in \u001B[0;36mVariable.assign_add\u001B[1;34m(self, value)\u001B[0m\n\u001B[0;32m    296\u001B[0m \u001B[38;5;28;01mdef\u001B[39;00m\u001B[38;5;250m \u001B[39m\u001B[38;5;21massign_add\u001B[39m(\u001B[38;5;28mself\u001B[39m, value):\n\u001B[1;32m--> 297\u001B[0m     \u001B[38;5;28;01mreturn\u001B[39;00m \u001B[38;5;28mself\u001B[39m\u001B[38;5;241m.\u001B[39massign(\u001B[38;5;28;43mself\u001B[39;49m\u001B[43m \u001B[49m\u001B[38;5;241;43m+\u001B[39;49m\u001B[43m \u001B[49m\u001B[43mvalue\u001B[49m)\n",
      "File \u001B[1;32mC:\\projects\\ANN_studies\\.venv\\lib\\site-packages\\keras\\src\\backend\\common\\variables.py:481\u001B[0m, in \u001B[0;36mVariable.__add__\u001B[1;34m(self, other)\u001B[0m\n\u001B[0;32m    480\u001B[0m \u001B[38;5;28;01mdef\u001B[39;00m\u001B[38;5;250m \u001B[39m\u001B[38;5;21m__add__\u001B[39m(\u001B[38;5;28mself\u001B[39m, other):\n\u001B[1;32m--> 481\u001B[0m     \u001B[38;5;28;01mreturn\u001B[39;00m \u001B[43mbackend\u001B[49m\u001B[38;5;241;43m.\u001B[39;49m\u001B[43mnumpy\u001B[49m\u001B[38;5;241;43m.\u001B[39;49m\u001B[43madd\u001B[49m\u001B[43m(\u001B[49m\u001B[38;5;28;43mself\u001B[39;49m\u001B[38;5;241;43m.\u001B[39;49m\u001B[43mvalue\u001B[49m\u001B[43m,\u001B[49m\u001B[43m \u001B[49m\u001B[43mother\u001B[49m\u001B[43m)\u001B[49m\n",
      "File \u001B[1;32mC:\\projects\\ANN_studies\\.venv\\lib\\site-packages\\keras\\src\\backend\\torch\\numpy.py:69\u001B[0m, in \u001B[0;36madd\u001B[1;34m(x1, x2)\u001B[0m\n\u001B[0;32m     67\u001B[0m \u001B[38;5;28;01mdef\u001B[39;00m\u001B[38;5;250m \u001B[39m\u001B[38;5;21madd\u001B[39m(x1, x2):\n\u001B[0;32m     68\u001B[0m     x1 \u001B[38;5;241m=\u001B[39m convert_to_tensor(x1)\n\u001B[1;32m---> 69\u001B[0m     x2 \u001B[38;5;241m=\u001B[39m \u001B[43mconvert_to_tensor\u001B[49m\u001B[43m(\u001B[49m\u001B[43mx2\u001B[49m\u001B[43m)\u001B[49m\n\u001B[0;32m     70\u001B[0m     \u001B[38;5;28;01mreturn\u001B[39;00m torch\u001B[38;5;241m.\u001B[39madd(x1, x2)\n",
      "File \u001B[1;32mC:\\projects\\ANN_studies\\.venv\\lib\\site-packages\\keras\\src\\backend\\torch\\core.py:213\u001B[0m, in \u001B[0;36mconvert_to_tensor\u001B[1;34m(x, dtype, sparse, ragged)\u001B[0m\n\u001B[0;32m    211\u001B[0m     \u001B[38;5;28;01mreturn\u001B[39;00m torch\u001B[38;5;241m.\u001B[39mas_tensor(x, dtype\u001B[38;5;241m=\u001B[39mtorch\u001B[38;5;241m.\u001B[39mbool, device\u001B[38;5;241m=\u001B[39mget_device())\n\u001B[0;32m    212\u001B[0m \u001B[38;5;28;01melif\u001B[39;00m \u001B[38;5;28misinstance\u001B[39m(x, \u001B[38;5;28mint\u001B[39m):\n\u001B[1;32m--> 213\u001B[0m     \u001B[38;5;28;01mreturn\u001B[39;00m \u001B[43mtorch\u001B[49m\u001B[38;5;241;43m.\u001B[39;49m\u001B[43mas_tensor\u001B[49m\u001B[43m(\u001B[49m\u001B[43mx\u001B[49m\u001B[43m,\u001B[49m\u001B[43m \u001B[49m\u001B[43mdtype\u001B[49m\u001B[38;5;241;43m=\u001B[39;49m\u001B[43mtorch\u001B[49m\u001B[38;5;241;43m.\u001B[39;49m\u001B[43mint32\u001B[49m\u001B[43m,\u001B[49m\u001B[43m \u001B[49m\u001B[43mdevice\u001B[49m\u001B[38;5;241;43m=\u001B[39;49m\u001B[43mget_device\u001B[49m\u001B[43m(\u001B[49m\u001B[43m)\u001B[49m\u001B[43m)\u001B[49m\n\u001B[0;32m    214\u001B[0m \u001B[38;5;28;01melif\u001B[39;00m \u001B[38;5;28misinstance\u001B[39m(x, \u001B[38;5;28mfloat\u001B[39m):\n\u001B[0;32m    215\u001B[0m     \u001B[38;5;28;01mreturn\u001B[39;00m torch\u001B[38;5;241m.\u001B[39mas_tensor(\n\u001B[0;32m    216\u001B[0m         x, dtype\u001B[38;5;241m=\u001B[39mto_torch_dtype(floatx()), device\u001B[38;5;241m=\u001B[39mget_device()\n\u001B[0;32m    217\u001B[0m     )\n",
      "\u001B[1;31mKeyboardInterrupt\u001B[0m: "
     ]
    }
   ],
   "execution_count": 33
  },
  {
   "metadata": {},
   "cell_type": "code",
   "outputs": [],
   "execution_count": null,
   "source": "model_5.evaluate(x_test, y_test)",
   "id": "6f4ac4acdf34dbf9"
  },
  {
   "metadata": {},
   "cell_type": "markdown",
   "source": "#### Adam",
   "id": "b6c01ff98dff727d"
  },
  {
   "metadata": {
    "ExecuteTime": {
     "end_time": "2025-08-24T23:21:32.129671700Z",
     "start_time": "2025-08-24T00:18:35.205057Z"
    }
   },
   "cell_type": "code",
   "source": [
    "model_5.compile(\n",
    "    optimizer=keras.optimizers.Adam(learning_rate=0.001),\n",
    "    loss=keras.losses.CategoricalCrossentropy(),\n",
    "    metrics=[keras.metrics.CategoricalAccuracy()],\n",
    ")"
   ],
   "id": "9ff98bf375fb0a",
   "outputs": [],
   "execution_count": 35
  },
  {
   "metadata": {
    "ExecuteTime": {
     "end_time": "2025-08-24T23:21:32.131144500Z",
     "start_time": "2025-08-24T00:18:36.045210Z"
    }
   },
   "cell_type": "code",
   "source": [
    "model_5.fit(\n",
    "    x_train,\n",
    "    y_train,\n",
    "    batch_size=64,\n",
    "    epochs=10,\n",
    "    validation_data=(x_val, y_val),\n",
    ")"
   ],
   "id": "1fa4f2664fa40b28",
   "outputs": [
    {
     "name": "stdout",
     "output_type": "stream",
     "text": [
      "Epoch 1/10\n",
      "\u001B[1m625/625\u001B[0m \u001B[32m━━━━━━━━━━━━━━━━━━━━\u001B[0m\u001B[37m\u001B[0m \u001B[1m1816s\u001B[0m 3s/step - categorical_accuracy: 0.1000 - loss: 14.5063 - val_categorical_accuracy: 0.1000 - val_loss: 14.5063\n",
      "Epoch 2/10\n",
      "\u001B[1m 58/625\u001B[0m \u001B[32m━\u001B[0m\u001B[37m━━━━━━━━━━━━━━━━━━━\u001B[0m \u001B[1m26:10\u001B[0m 3s/step - categorical_accuracy: 0.0884 - loss: 14.6927"
     ]
    },
    {
     "ename": "KeyboardInterrupt",
     "evalue": "",
     "output_type": "error",
     "traceback": [
      "\u001B[1;31m---------------------------------------------------------------------------\u001B[0m",
      "\u001B[1;31mKeyboardInterrupt\u001B[0m                         Traceback (most recent call last)",
      "Cell \u001B[1;32mIn[36], line 1\u001B[0m\n\u001B[1;32m----> 1\u001B[0m \u001B[43mmodel_5\u001B[49m\u001B[38;5;241;43m.\u001B[39;49m\u001B[43mfit\u001B[49m\u001B[43m(\u001B[49m\n\u001B[0;32m      2\u001B[0m \u001B[43m    \u001B[49m\u001B[43mx_train\u001B[49m\u001B[43m,\u001B[49m\n\u001B[0;32m      3\u001B[0m \u001B[43m    \u001B[49m\u001B[43my_train\u001B[49m\u001B[43m,\u001B[49m\n\u001B[0;32m      4\u001B[0m \u001B[43m    \u001B[49m\u001B[43mbatch_size\u001B[49m\u001B[38;5;241;43m=\u001B[39;49m\u001B[38;5;241;43m64\u001B[39;49m\u001B[43m,\u001B[49m\n\u001B[0;32m      5\u001B[0m \u001B[43m    \u001B[49m\u001B[43mepochs\u001B[49m\u001B[38;5;241;43m=\u001B[39;49m\u001B[38;5;241;43m10\u001B[39;49m\u001B[43m,\u001B[49m\n\u001B[0;32m      6\u001B[0m \u001B[43m    \u001B[49m\u001B[43mvalidation_data\u001B[49m\u001B[38;5;241;43m=\u001B[39;49m\u001B[43m(\u001B[49m\u001B[43mx_val\u001B[49m\u001B[43m,\u001B[49m\u001B[43m \u001B[49m\u001B[43my_val\u001B[49m\u001B[43m)\u001B[49m\u001B[43m,\u001B[49m\n\u001B[0;32m      7\u001B[0m \u001B[43m)\u001B[49m\n",
      "File \u001B[1;32mC:\\projects\\ANN_studies\\.venv\\lib\\site-packages\\keras\\src\\utils\\traceback_utils.py:117\u001B[0m, in \u001B[0;36mfilter_traceback.<locals>.error_handler\u001B[1;34m(*args, **kwargs)\u001B[0m\n\u001B[0;32m    115\u001B[0m filtered_tb \u001B[38;5;241m=\u001B[39m \u001B[38;5;28;01mNone\u001B[39;00m\n\u001B[0;32m    116\u001B[0m \u001B[38;5;28;01mtry\u001B[39;00m:\n\u001B[1;32m--> 117\u001B[0m     \u001B[38;5;28;01mreturn\u001B[39;00m fn(\u001B[38;5;241m*\u001B[39margs, \u001B[38;5;241m*\u001B[39m\u001B[38;5;241m*\u001B[39mkwargs)\n\u001B[0;32m    118\u001B[0m \u001B[38;5;28;01mexcept\u001B[39;00m \u001B[38;5;167;01mException\u001B[39;00m \u001B[38;5;28;01mas\u001B[39;00m e:\n\u001B[0;32m    119\u001B[0m     filtered_tb \u001B[38;5;241m=\u001B[39m _process_traceback_frames(e\u001B[38;5;241m.\u001B[39m__traceback__)\n",
      "File \u001B[1;32mC:\\projects\\ANN_studies\\.venv\\lib\\site-packages\\keras\\src\\backend\\torch\\trainer.py:263\u001B[0m, in \u001B[0;36mTorchTrainer.fit\u001B[1;34m(self, x, y, batch_size, epochs, verbose, callbacks, validation_split, validation_data, shuffle, class_weight, sample_weight, initial_epoch, steps_per_epoch, validation_steps, validation_batch_size, validation_freq)\u001B[0m\n\u001B[0;32m    259\u001B[0m \u001B[38;5;28;01mfor\u001B[39;00m begin_step, end_step, data \u001B[38;5;129;01min\u001B[39;00m epoch_iterator:\n\u001B[0;32m    260\u001B[0m     \u001B[38;5;66;03m# Callbacks\u001B[39;00m\n\u001B[0;32m    261\u001B[0m     callbacks\u001B[38;5;241m.\u001B[39mon_train_batch_begin(begin_step)\n\u001B[1;32m--> 263\u001B[0m     logs \u001B[38;5;241m=\u001B[39m \u001B[38;5;28;43mself\u001B[39;49m\u001B[38;5;241;43m.\u001B[39;49m\u001B[43mtrain_function\u001B[49m\u001B[43m(\u001B[49m\u001B[43mdata\u001B[49m\u001B[43m)\u001B[49m\n\u001B[0;32m    265\u001B[0m     \u001B[38;5;66;03m# Callbacks\u001B[39;00m\n\u001B[0;32m    266\u001B[0m     callbacks\u001B[38;5;241m.\u001B[39mon_train_batch_end(end_step, logs)\n",
      "File \u001B[1;32mC:\\projects\\ANN_studies\\.venv\\lib\\site-packages\\keras\\src\\backend\\torch\\trainer.py:118\u001B[0m, in \u001B[0;36mTorchTrainer.make_train_function.<locals>.one_step_on_data\u001B[1;34m(data)\u001B[0m\n\u001B[0;32m    116\u001B[0m \u001B[38;5;250m\u001B[39m\u001B[38;5;124;03m\"\"\"Runs a single training step on a batch of data.\"\"\"\u001B[39;00m\n\u001B[0;32m    117\u001B[0m data \u001B[38;5;241m=\u001B[39m data[\u001B[38;5;241m0\u001B[39m]\n\u001B[1;32m--> 118\u001B[0m \u001B[38;5;28;01mreturn\u001B[39;00m \u001B[38;5;28;43mself\u001B[39;49m\u001B[38;5;241;43m.\u001B[39;49m\u001B[43mtrain_step\u001B[49m\u001B[43m(\u001B[49m\u001B[43mdata\u001B[49m\u001B[43m)\u001B[49m\n",
      "File \u001B[1;32mC:\\projects\\ANN_studies\\.venv\\lib\\site-packages\\keras\\src\\backend\\torch\\trainer.py:73\u001B[0m, in \u001B[0;36mTorchTrainer.train_step\u001B[1;34m(self, data)\u001B[0m\n\u001B[0;32m     71\u001B[0m     \u001B[38;5;66;03m# Update weights\u001B[39;00m\n\u001B[0;32m     72\u001B[0m     \u001B[38;5;28;01mwith\u001B[39;00m torch\u001B[38;5;241m.\u001B[39mno_grad():\n\u001B[1;32m---> 73\u001B[0m         \u001B[38;5;28;43mself\u001B[39;49m\u001B[38;5;241;43m.\u001B[39;49m\u001B[43moptimizer\u001B[49m\u001B[38;5;241;43m.\u001B[39;49m\u001B[43mapply\u001B[49m\u001B[43m(\u001B[49m\u001B[43mgradients\u001B[49m\u001B[43m,\u001B[49m\u001B[43m \u001B[49m\u001B[43mtrainable_weights\u001B[49m\u001B[43m)\u001B[49m\n\u001B[0;32m     74\u001B[0m \u001B[38;5;28;01melse\u001B[39;00m:\n\u001B[0;32m     75\u001B[0m     warnings\u001B[38;5;241m.\u001B[39mwarn(\u001B[38;5;124m\"\u001B[39m\u001B[38;5;124mThe model does not have any trainable weights.\u001B[39m\u001B[38;5;124m\"\u001B[39m)\n",
      "File \u001B[1;32mC:\\projects\\ANN_studies\\.venv\\lib\\site-packages\\keras\\src\\optimizers\\base_optimizer.py:527\u001B[0m, in \u001B[0;36mBaseOptimizer.apply\u001B[1;34m(self, grads, trainable_variables)\u001B[0m\n\u001B[0;32m    524\u001B[0m     grads \u001B[38;5;241m=\u001B[39m [g \u001B[38;5;28;01mif\u001B[39;00m g \u001B[38;5;129;01mis\u001B[39;00m \u001B[38;5;28;01mNone\u001B[39;00m \u001B[38;5;28;01melse\u001B[39;00m g \u001B[38;5;241m/\u001B[39m scale \u001B[38;5;28;01mfor\u001B[39;00m g \u001B[38;5;129;01min\u001B[39;00m grads]\n\u001B[0;32m    526\u001B[0m \u001B[38;5;66;03m# Apply gradient updates.\u001B[39;00m\n\u001B[1;32m--> 527\u001B[0m \u001B[38;5;28;43mself\u001B[39;49m\u001B[38;5;241;43m.\u001B[39;49m\u001B[43m_backend_apply_gradients\u001B[49m\u001B[43m(\u001B[49m\u001B[43mgrads\u001B[49m\u001B[43m,\u001B[49m\u001B[43m \u001B[49m\u001B[43mtrainable_variables\u001B[49m\u001B[43m)\u001B[49m\n\u001B[0;32m    528\u001B[0m \u001B[38;5;66;03m# Apply variable constraints after applying gradients.\u001B[39;00m\n\u001B[0;32m    529\u001B[0m \u001B[38;5;28;01mfor\u001B[39;00m variable \u001B[38;5;129;01min\u001B[39;00m trainable_variables:\n",
      "File \u001B[1;32mC:\\projects\\ANN_studies\\.venv\\lib\\site-packages\\keras\\src\\optimizers\\base_optimizer.py:593\u001B[0m, in \u001B[0;36mBaseOptimizer._backend_apply_gradients\u001B[1;34m(self, grads, trainable_variables)\u001B[0m\n\u001B[0;32m    590\u001B[0m     \u001B[38;5;28mself\u001B[39m\u001B[38;5;241m.\u001B[39m_apply_weight_decay(trainable_variables)\n\u001B[0;32m    592\u001B[0m     \u001B[38;5;66;03m# Run update step.\u001B[39;00m\n\u001B[1;32m--> 593\u001B[0m     \u001B[38;5;28;43mself\u001B[39;49m\u001B[38;5;241;43m.\u001B[39;49m\u001B[43m_backend_update_step\u001B[49m\u001B[43m(\u001B[49m\n\u001B[0;32m    594\u001B[0m \u001B[43m        \u001B[49m\u001B[43mgrads\u001B[49m\u001B[43m,\u001B[49m\u001B[43m \u001B[49m\u001B[43mtrainable_variables\u001B[49m\u001B[43m,\u001B[49m\u001B[43m \u001B[49m\u001B[38;5;28;43mself\u001B[39;49m\u001B[38;5;241;43m.\u001B[39;49m\u001B[43mlearning_rate\u001B[49m\n\u001B[0;32m    595\u001B[0m \u001B[43m    \u001B[49m\u001B[43m)\u001B[49m\n\u001B[0;32m    597\u001B[0m \u001B[38;5;28;01mif\u001B[39;00m \u001B[38;5;28mself\u001B[39m\u001B[38;5;241m.\u001B[39muse_ema:\n\u001B[0;32m    598\u001B[0m     \u001B[38;5;28mself\u001B[39m\u001B[38;5;241m.\u001B[39m_update_model_variables_moving_average(\n\u001B[0;32m    599\u001B[0m         \u001B[38;5;28mself\u001B[39m\u001B[38;5;241m.\u001B[39m_trainable_variables\n\u001B[0;32m    600\u001B[0m     )\n",
      "File \u001B[1;32mC:\\projects\\ANN_studies\\.venv\\lib\\site-packages\\torch\\utils\\_contextlib.py:120\u001B[0m, in \u001B[0;36mcontext_decorator.<locals>.decorate_context\u001B[1;34m(*args, **kwargs)\u001B[0m\n\u001B[0;32m    117\u001B[0m \u001B[38;5;129m@functools\u001B[39m\u001B[38;5;241m.\u001B[39mwraps(func)\n\u001B[0;32m    118\u001B[0m \u001B[38;5;28;01mdef\u001B[39;00m\u001B[38;5;250m \u001B[39m\u001B[38;5;21mdecorate_context\u001B[39m(\u001B[38;5;241m*\u001B[39margs, \u001B[38;5;241m*\u001B[39m\u001B[38;5;241m*\u001B[39mkwargs):\n\u001B[0;32m    119\u001B[0m     \u001B[38;5;28;01mwith\u001B[39;00m ctx_factory():\n\u001B[1;32m--> 120\u001B[0m         \u001B[38;5;28;01mreturn\u001B[39;00m func(\u001B[38;5;241m*\u001B[39margs, \u001B[38;5;241m*\u001B[39m\u001B[38;5;241m*\u001B[39mkwargs)\n",
      "File \u001B[1;32mC:\\projects\\ANN_studies\\.venv\\lib\\site-packages\\keras\\src\\backend\\torch\\optimizers\\torch_parallel_optimizer.py:10\u001B[0m, in \u001B[0;36mTorchParallelOptimizer._backend_update_step\u001B[1;34m(self, grads, trainable_variables, learning_rate)\u001B[0m\n\u001B[0;32m      8\u001B[0m \u001B[38;5;129m@torch_utils\u001B[39m\u001B[38;5;241m.\u001B[39mno_grad\n\u001B[0;32m      9\u001B[0m \u001B[38;5;28;01mdef\u001B[39;00m\u001B[38;5;250m \u001B[39m\u001B[38;5;21m_backend_update_step\u001B[39m(\u001B[38;5;28mself\u001B[39m, grads, trainable_variables, learning_rate):\n\u001B[1;32m---> 10\u001B[0m     \u001B[38;5;28;43mself\u001B[39;49m\u001B[38;5;241;43m.\u001B[39;49m\u001B[43m_parallel_update_step\u001B[49m\u001B[43m(\u001B[49m\n\u001B[0;32m     11\u001B[0m \u001B[43m        \u001B[49m\u001B[43mgrads\u001B[49m\u001B[43m,\u001B[49m\n\u001B[0;32m     12\u001B[0m \u001B[43m        \u001B[49m\u001B[43mtrainable_variables\u001B[49m\u001B[43m,\u001B[49m\n\u001B[0;32m     13\u001B[0m \u001B[43m        \u001B[49m\u001B[43mlearning_rate\u001B[49m\u001B[43m,\u001B[49m\n\u001B[0;32m     14\u001B[0m \u001B[43m    \u001B[49m\u001B[43m)\u001B[49m\n",
      "File \u001B[1;32mC:\\projects\\ANN_studies\\.venv\\lib\\site-packages\\keras\\src\\backend\\torch\\optimizers\\torch_adam.py:20\u001B[0m, in \u001B[0;36mAdam._parallel_update_step\u001B[1;34m(self, grads, variables, learning_rate)\u001B[0m\n\u001B[0;32m     18\u001B[0m dtype \u001B[38;5;241m=\u001B[39m variables[\u001B[38;5;241m0\u001B[39m]\u001B[38;5;241m.\u001B[39mdtype\n\u001B[0;32m     19\u001B[0m lr \u001B[38;5;241m=\u001B[39m ops\u001B[38;5;241m.\u001B[39mcast(learning_rate, dtype)\n\u001B[1;32m---> 20\u001B[0m local_step \u001B[38;5;241m=\u001B[39m ops\u001B[38;5;241m.\u001B[39mcast(\u001B[38;5;28;43mself\u001B[39;49m\u001B[38;5;241;43m.\u001B[39;49m\u001B[43miterations\u001B[49m\u001B[43m \u001B[49m\u001B[38;5;241;43m+\u001B[39;49m\u001B[43m \u001B[49m\u001B[38;5;241;43m1\u001B[39;49m, dtype)\n\u001B[0;32m     22\u001B[0m beta_1_power \u001B[38;5;241m=\u001B[39m ops\u001B[38;5;241m.\u001B[39mpower(ops\u001B[38;5;241m.\u001B[39mcast(\u001B[38;5;28mself\u001B[39m\u001B[38;5;241m.\u001B[39mbeta_1, dtype), local_step)\n\u001B[0;32m     23\u001B[0m beta_2_power \u001B[38;5;241m=\u001B[39m ops\u001B[38;5;241m.\u001B[39mpower(ops\u001B[38;5;241m.\u001B[39mcast(\u001B[38;5;28mself\u001B[39m\u001B[38;5;241m.\u001B[39mbeta_2, dtype), local_step)\n",
      "File \u001B[1;32mC:\\projects\\ANN_studies\\.venv\\lib\\site-packages\\keras\\src\\backend\\common\\variables.py:481\u001B[0m, in \u001B[0;36mVariable.__add__\u001B[1;34m(self, other)\u001B[0m\n\u001B[0;32m    480\u001B[0m \u001B[38;5;28;01mdef\u001B[39;00m\u001B[38;5;250m \u001B[39m\u001B[38;5;21m__add__\u001B[39m(\u001B[38;5;28mself\u001B[39m, other):\n\u001B[1;32m--> 481\u001B[0m     \u001B[38;5;28;01mreturn\u001B[39;00m \u001B[43mbackend\u001B[49m\u001B[38;5;241;43m.\u001B[39;49m\u001B[43mnumpy\u001B[49m\u001B[38;5;241;43m.\u001B[39;49m\u001B[43madd\u001B[49m\u001B[43m(\u001B[49m\u001B[38;5;28;43mself\u001B[39;49m\u001B[38;5;241;43m.\u001B[39;49m\u001B[43mvalue\u001B[49m\u001B[43m,\u001B[49m\u001B[43m \u001B[49m\u001B[43mother\u001B[49m\u001B[43m)\u001B[49m\n",
      "File \u001B[1;32mC:\\projects\\ANN_studies\\.venv\\lib\\site-packages\\keras\\src\\backend\\torch\\numpy.py:69\u001B[0m, in \u001B[0;36madd\u001B[1;34m(x1, x2)\u001B[0m\n\u001B[0;32m     67\u001B[0m \u001B[38;5;28;01mdef\u001B[39;00m\u001B[38;5;250m \u001B[39m\u001B[38;5;21madd\u001B[39m(x1, x2):\n\u001B[0;32m     68\u001B[0m     x1 \u001B[38;5;241m=\u001B[39m convert_to_tensor(x1)\n\u001B[1;32m---> 69\u001B[0m     x2 \u001B[38;5;241m=\u001B[39m \u001B[43mconvert_to_tensor\u001B[49m\u001B[43m(\u001B[49m\u001B[43mx2\u001B[49m\u001B[43m)\u001B[49m\n\u001B[0;32m     70\u001B[0m     \u001B[38;5;28;01mreturn\u001B[39;00m torch\u001B[38;5;241m.\u001B[39madd(x1, x2)\n",
      "File \u001B[1;32mC:\\projects\\ANN_studies\\.venv\\lib\\site-packages\\keras\\src\\backend\\torch\\core.py:213\u001B[0m, in \u001B[0;36mconvert_to_tensor\u001B[1;34m(x, dtype, sparse, ragged)\u001B[0m\n\u001B[0;32m    211\u001B[0m     \u001B[38;5;28;01mreturn\u001B[39;00m torch\u001B[38;5;241m.\u001B[39mas_tensor(x, dtype\u001B[38;5;241m=\u001B[39mtorch\u001B[38;5;241m.\u001B[39mbool, device\u001B[38;5;241m=\u001B[39mget_device())\n\u001B[0;32m    212\u001B[0m \u001B[38;5;28;01melif\u001B[39;00m \u001B[38;5;28misinstance\u001B[39m(x, \u001B[38;5;28mint\u001B[39m):\n\u001B[1;32m--> 213\u001B[0m     \u001B[38;5;28;01mreturn\u001B[39;00m \u001B[43mtorch\u001B[49m\u001B[38;5;241;43m.\u001B[39;49m\u001B[43mas_tensor\u001B[49m\u001B[43m(\u001B[49m\u001B[43mx\u001B[49m\u001B[43m,\u001B[49m\u001B[43m \u001B[49m\u001B[43mdtype\u001B[49m\u001B[38;5;241;43m=\u001B[39;49m\u001B[43mtorch\u001B[49m\u001B[38;5;241;43m.\u001B[39;49m\u001B[43mint32\u001B[49m\u001B[43m,\u001B[49m\u001B[43m \u001B[49m\u001B[43mdevice\u001B[49m\u001B[38;5;241;43m=\u001B[39;49m\u001B[43mget_device\u001B[49m\u001B[43m(\u001B[49m\u001B[43m)\u001B[49m\u001B[43m)\u001B[49m\n\u001B[0;32m    214\u001B[0m \u001B[38;5;28;01melif\u001B[39;00m \u001B[38;5;28misinstance\u001B[39m(x, \u001B[38;5;28mfloat\u001B[39m):\n\u001B[0;32m    215\u001B[0m     \u001B[38;5;28;01mreturn\u001B[39;00m torch\u001B[38;5;241m.\u001B[39mas_tensor(\n\u001B[0;32m    216\u001B[0m         x, dtype\u001B[38;5;241m=\u001B[39mto_torch_dtype(floatx()), device\u001B[38;5;241m=\u001B[39mget_device()\n\u001B[0;32m    217\u001B[0m     )\n",
      "\u001B[1;31mKeyboardInterrupt\u001B[0m: "
     ]
    }
   ],
   "execution_count": 36
  },
  {
   "metadata": {},
   "cell_type": "code",
   "outputs": [],
   "execution_count": null,
   "source": "model_5.evaluate(x_test, y_test)",
   "id": "dbfb46e653b7514d"
  },
  {
   "metadata": {},
   "cell_type": "markdown",
   "source": "### MLP 6 - SELU activation and LeCun initialization",
   "id": "ebfe770d0f59ac4a"
  },
  {
   "metadata": {
    "ExecuteTime": {
     "end_time": "2025-08-24T23:21:32.134151200Z",
     "start_time": "2025-08-24T00:16:45.325955Z"
    }
   },
   "cell_type": "code",
   "source": [
    "from keras import layers\n",
    "model_6 = keras.Sequential([\n",
    "    layers.Input(shape=(3072,)),\n",
    "    layers.Dense(100, activation='selu', kernel_initializer='lecun_normal', bias_initializer='lecun_normal'),\n",
    "    layers.Dense(100, activation='selu', kernel_initializer='lecun_normal', bias_initializer='lecun_normal'),\n",
    "    layers.Dense(100, activation='selu', kernel_initializer='lecun_normal', bias_initializer='lecun_normal'),\n",
    "    layers.Dense(100, activation='selu', kernel_initializer='lecun_normal', bias_initializer='lecun_normal'),\n",
    "    layers.Dense(100, activation='selu', kernel_initializer='lecun_normal', bias_initializer='lecun_normal'),\n",
    "    layers.Dense(100, activation='selu', kernel_initializer='lecun_normal', bias_initializer='lecun_normal'),\n",
    "    layers.Dense(100, activation='selu', kernel_initializer='lecun_normal', bias_initializer='lecun_normal'),\n",
    "    layers.Dense(100, activation='selu', kernel_initializer='lecun_normal', bias_initializer='lecun_normal'),\n",
    "    layers.Dense(100, activation='selu', kernel_initializer='lecun_normal', bias_initializer='lecun_normal'),\n",
    "    layers.Dense(100, activation='selu', kernel_initializer='lecun_normal', bias_initializer='lecun_normal'),\n",
    "    layers.Dense(100, activation='selu', kernel_initializer='lecun_normal', bias_initializer='lecun_normal'),\n",
    "    layers.Dense(100, activation='selu', kernel_initializer='lecun_normal', bias_initializer='lecun_normal'),\n",
    "    layers.Dense(100, activation='selu', kernel_initializer='lecun_normal', bias_initializer='lecun_normal'),\n",
    "    layers.Dense(100, activation='selu', kernel_initializer='lecun_normal', bias_initializer='lecun_normal'),\n",
    "    layers.Dense(100, activation='selu', kernel_initializer='lecun_normal', bias_initializer='lecun_normal'),\n",
    "    layers.Dense(100, activation='selu', kernel_initializer='lecun_normal', bias_initializer='lecun_normal'),\n",
    "    layers.Dense(100, activation='selu', kernel_initializer='lecun_normal', bias_initializer='lecun_normal'),\n",
    "    layers.Dense(100, activation='selu', kernel_initializer='lecun_normal', bias_initializer='lecun_normal'),\n",
    "    layers.Dense(100, activation='selu', kernel_initializer='lecun_normal', bias_initializer='lecun_normal'),\n",
    "    layers.Dense(100, activation='selu', kernel_initializer='lecun_normal', bias_initializer='lecun_normal'),\n",
    "    layers.Dense(10, activation='softmax')\n",
    "])"
   ],
   "id": "7599cd8517d3d40a",
   "outputs": [],
   "execution_count": 25
  },
  {
   "metadata": {
    "ExecuteTime": {
     "end_time": "2025-08-24T23:21:32.135659400Z",
     "start_time": "2025-08-24T00:16:49.298600Z"
    }
   },
   "cell_type": "code",
   "source": [
    "model_6.compile(\n",
    "    optimizer=keras.optimizers.SGD(),\n",
    "    loss=keras.losses.CategoricalCrossentropy(),\n",
    "    metrics=[keras.metrics.CategoricalAccuracy()],\n",
    ")"
   ],
   "id": "387b2f563dc5151d",
   "outputs": [],
   "execution_count": 26
  },
  {
   "metadata": {
    "ExecuteTime": {
     "end_time": "2025-08-24T23:21:32.139048100Z",
     "start_time": "2025-08-24T00:16:49.330128Z"
    }
   },
   "cell_type": "code",
   "source": [
    "model_6.fit(\n",
    "    x_train,\n",
    "    y_train,\n",
    "    batch_size=64,\n",
    "    epochs=10,\n",
    "    validation_data=(x_val, y_val),\n",
    ")"
   ],
   "id": "297c845ffcf0f462",
   "outputs": [
    {
     "name": "stdout",
     "output_type": "stream",
     "text": [
      "Epoch 1/10\n",
      "\u001B[1m  2/625\u001B[0m \u001B[37m━━━━━━━━━━━━━━━━━━━━\u001B[0m \u001B[1m6:55\u001B[0m 667ms/step - categorical_accuracy: 0.1406 - loss: 4.9091"
     ]
    },
    {
     "ename": "KeyboardInterrupt",
     "evalue": "",
     "output_type": "error",
     "traceback": [
      "\u001B[1;31m---------------------------------------------------------------------------\u001B[0m",
      "\u001B[1;31mKeyboardInterrupt\u001B[0m                         Traceback (most recent call last)",
      "Cell \u001B[1;32mIn[27], line 1\u001B[0m\n\u001B[1;32m----> 1\u001B[0m \u001B[43mmodel_6\u001B[49m\u001B[38;5;241;43m.\u001B[39;49m\u001B[43mfit\u001B[49m\u001B[43m(\u001B[49m\n\u001B[0;32m      2\u001B[0m \u001B[43m    \u001B[49m\u001B[43mx_train\u001B[49m\u001B[43m,\u001B[49m\n\u001B[0;32m      3\u001B[0m \u001B[43m    \u001B[49m\u001B[43my_train\u001B[49m\u001B[43m,\u001B[49m\n\u001B[0;32m      4\u001B[0m \u001B[43m    \u001B[49m\u001B[43mbatch_size\u001B[49m\u001B[38;5;241;43m=\u001B[39;49m\u001B[38;5;241;43m64\u001B[39;49m\u001B[43m,\u001B[49m\n\u001B[0;32m      5\u001B[0m \u001B[43m    \u001B[49m\u001B[43mepochs\u001B[49m\u001B[38;5;241;43m=\u001B[39;49m\u001B[38;5;241;43m10\u001B[39;49m\u001B[43m,\u001B[49m\n\u001B[0;32m      6\u001B[0m \u001B[43m    \u001B[49m\u001B[43mvalidation_data\u001B[49m\u001B[38;5;241;43m=\u001B[39;49m\u001B[43m(\u001B[49m\u001B[43mx_val\u001B[49m\u001B[43m,\u001B[49m\u001B[43m \u001B[49m\u001B[43my_val\u001B[49m\u001B[43m)\u001B[49m\u001B[43m,\u001B[49m\n\u001B[0;32m      7\u001B[0m \u001B[43m)\u001B[49m\n",
      "File \u001B[1;32mC:\\projects\\ANN_studies\\.venv\\lib\\site-packages\\keras\\src\\utils\\traceback_utils.py:117\u001B[0m, in \u001B[0;36mfilter_traceback.<locals>.error_handler\u001B[1;34m(*args, **kwargs)\u001B[0m\n\u001B[0;32m    115\u001B[0m filtered_tb \u001B[38;5;241m=\u001B[39m \u001B[38;5;28;01mNone\u001B[39;00m\n\u001B[0;32m    116\u001B[0m \u001B[38;5;28;01mtry\u001B[39;00m:\n\u001B[1;32m--> 117\u001B[0m     \u001B[38;5;28;01mreturn\u001B[39;00m fn(\u001B[38;5;241m*\u001B[39margs, \u001B[38;5;241m*\u001B[39m\u001B[38;5;241m*\u001B[39mkwargs)\n\u001B[0;32m    118\u001B[0m \u001B[38;5;28;01mexcept\u001B[39;00m \u001B[38;5;167;01mException\u001B[39;00m \u001B[38;5;28;01mas\u001B[39;00m e:\n\u001B[0;32m    119\u001B[0m     filtered_tb \u001B[38;5;241m=\u001B[39m _process_traceback_frames(e\u001B[38;5;241m.\u001B[39m__traceback__)\n",
      "File \u001B[1;32mC:\\projects\\ANN_studies\\.venv\\lib\\site-packages\\keras\\src\\backend\\torch\\trainer.py:263\u001B[0m, in \u001B[0;36mTorchTrainer.fit\u001B[1;34m(self, x, y, batch_size, epochs, verbose, callbacks, validation_split, validation_data, shuffle, class_weight, sample_weight, initial_epoch, steps_per_epoch, validation_steps, validation_batch_size, validation_freq)\u001B[0m\n\u001B[0;32m    259\u001B[0m \u001B[38;5;28;01mfor\u001B[39;00m begin_step, end_step, data \u001B[38;5;129;01min\u001B[39;00m epoch_iterator:\n\u001B[0;32m    260\u001B[0m     \u001B[38;5;66;03m# Callbacks\u001B[39;00m\n\u001B[0;32m    261\u001B[0m     callbacks\u001B[38;5;241m.\u001B[39mon_train_batch_begin(begin_step)\n\u001B[1;32m--> 263\u001B[0m     logs \u001B[38;5;241m=\u001B[39m \u001B[38;5;28;43mself\u001B[39;49m\u001B[38;5;241;43m.\u001B[39;49m\u001B[43mtrain_function\u001B[49m\u001B[43m(\u001B[49m\u001B[43mdata\u001B[49m\u001B[43m)\u001B[49m\n\u001B[0;32m    265\u001B[0m     \u001B[38;5;66;03m# Callbacks\u001B[39;00m\n\u001B[0;32m    266\u001B[0m     callbacks\u001B[38;5;241m.\u001B[39mon_train_batch_end(end_step, logs)\n",
      "File \u001B[1;32mC:\\projects\\ANN_studies\\.venv\\lib\\site-packages\\keras\\src\\backend\\torch\\trainer.py:118\u001B[0m, in \u001B[0;36mTorchTrainer.make_train_function.<locals>.one_step_on_data\u001B[1;34m(data)\u001B[0m\n\u001B[0;32m    116\u001B[0m \u001B[38;5;250m\u001B[39m\u001B[38;5;124;03m\"\"\"Runs a single training step on a batch of data.\"\"\"\u001B[39;00m\n\u001B[0;32m    117\u001B[0m data \u001B[38;5;241m=\u001B[39m data[\u001B[38;5;241m0\u001B[39m]\n\u001B[1;32m--> 118\u001B[0m \u001B[38;5;28;01mreturn\u001B[39;00m \u001B[38;5;28;43mself\u001B[39;49m\u001B[38;5;241;43m.\u001B[39;49m\u001B[43mtrain_step\u001B[49m\u001B[43m(\u001B[49m\u001B[43mdata\u001B[49m\u001B[43m)\u001B[49m\n",
      "File \u001B[1;32mC:\\projects\\ANN_studies\\.venv\\lib\\site-packages\\keras\\src\\backend\\torch\\trainer.py:66\u001B[0m, in \u001B[0;36mTorchTrainer.train_step\u001B[1;34m(self, data)\u001B[0m\n\u001B[0;32m     62\u001B[0m \u001B[38;5;66;03m# Compute gradients\u001B[39;00m\n\u001B[0;32m     63\u001B[0m \u001B[38;5;28;01mif\u001B[39;00m \u001B[38;5;28mself\u001B[39m\u001B[38;5;241m.\u001B[39mtrainable_weights:\n\u001B[0;32m     64\u001B[0m     \u001B[38;5;66;03m# Call torch.Tensor.backward() on the loss to compute gradients\u001B[39;00m\n\u001B[0;32m     65\u001B[0m     \u001B[38;5;66;03m# for the weights.\u001B[39;00m\n\u001B[1;32m---> 66\u001B[0m     \u001B[43mloss\u001B[49m\u001B[38;5;241;43m.\u001B[39;49m\u001B[43mbackward\u001B[49m\u001B[43m(\u001B[49m\u001B[43m)\u001B[49m\n\u001B[0;32m     68\u001B[0m     trainable_weights \u001B[38;5;241m=\u001B[39m \u001B[38;5;28mself\u001B[39m\u001B[38;5;241m.\u001B[39mtrainable_weights[:]\n\u001B[0;32m     69\u001B[0m     gradients \u001B[38;5;241m=\u001B[39m [v\u001B[38;5;241m.\u001B[39mvalue\u001B[38;5;241m.\u001B[39mgrad \u001B[38;5;28;01mfor\u001B[39;00m v \u001B[38;5;129;01min\u001B[39;00m trainable_weights]\n",
      "File \u001B[1;32mC:\\projects\\ANN_studies\\.venv\\lib\\site-packages\\torch\\_tensor.py:647\u001B[0m, in \u001B[0;36mTensor.backward\u001B[1;34m(self, gradient, retain_graph, create_graph, inputs)\u001B[0m\n\u001B[0;32m    637\u001B[0m \u001B[38;5;28;01mif\u001B[39;00m has_torch_function_unary(\u001B[38;5;28mself\u001B[39m):\n\u001B[0;32m    638\u001B[0m     \u001B[38;5;28;01mreturn\u001B[39;00m handle_torch_function(\n\u001B[0;32m    639\u001B[0m         Tensor\u001B[38;5;241m.\u001B[39mbackward,\n\u001B[0;32m    640\u001B[0m         (\u001B[38;5;28mself\u001B[39m,),\n\u001B[1;32m   (...)\u001B[0m\n\u001B[0;32m    645\u001B[0m         inputs\u001B[38;5;241m=\u001B[39minputs,\n\u001B[0;32m    646\u001B[0m     )\n\u001B[1;32m--> 647\u001B[0m \u001B[43mtorch\u001B[49m\u001B[38;5;241;43m.\u001B[39;49m\u001B[43mautograd\u001B[49m\u001B[38;5;241;43m.\u001B[39;49m\u001B[43mbackward\u001B[49m\u001B[43m(\u001B[49m\n\u001B[0;32m    648\u001B[0m \u001B[43m    \u001B[49m\u001B[38;5;28;43mself\u001B[39;49m\u001B[43m,\u001B[49m\u001B[43m \u001B[49m\u001B[43mgradient\u001B[49m\u001B[43m,\u001B[49m\u001B[43m \u001B[49m\u001B[43mretain_graph\u001B[49m\u001B[43m,\u001B[49m\u001B[43m \u001B[49m\u001B[43mcreate_graph\u001B[49m\u001B[43m,\u001B[49m\u001B[43m \u001B[49m\u001B[43minputs\u001B[49m\u001B[38;5;241;43m=\u001B[39;49m\u001B[43minputs\u001B[49m\n\u001B[0;32m    649\u001B[0m \u001B[43m\u001B[49m\u001B[43m)\u001B[49m\n",
      "File \u001B[1;32mC:\\projects\\ANN_studies\\.venv\\lib\\site-packages\\torch\\autograd\\__init__.py:354\u001B[0m, in \u001B[0;36mbackward\u001B[1;34m(tensors, grad_tensors, retain_graph, create_graph, grad_variables, inputs)\u001B[0m\n\u001B[0;32m    349\u001B[0m     retain_graph \u001B[38;5;241m=\u001B[39m create_graph\n\u001B[0;32m    351\u001B[0m \u001B[38;5;66;03m# The reason we repeat the same comment below is that\u001B[39;00m\n\u001B[0;32m    352\u001B[0m \u001B[38;5;66;03m# some Python versions print out the first line of a multi-line function\u001B[39;00m\n\u001B[0;32m    353\u001B[0m \u001B[38;5;66;03m# calls in the traceback and some print out the last line\u001B[39;00m\n\u001B[1;32m--> 354\u001B[0m \u001B[43m_engine_run_backward\u001B[49m\u001B[43m(\u001B[49m\n\u001B[0;32m    355\u001B[0m \u001B[43m    \u001B[49m\u001B[43mtensors\u001B[49m\u001B[43m,\u001B[49m\n\u001B[0;32m    356\u001B[0m \u001B[43m    \u001B[49m\u001B[43mgrad_tensors_\u001B[49m\u001B[43m,\u001B[49m\n\u001B[0;32m    357\u001B[0m \u001B[43m    \u001B[49m\u001B[43mretain_graph\u001B[49m\u001B[43m,\u001B[49m\n\u001B[0;32m    358\u001B[0m \u001B[43m    \u001B[49m\u001B[43mcreate_graph\u001B[49m\u001B[43m,\u001B[49m\n\u001B[0;32m    359\u001B[0m \u001B[43m    \u001B[49m\u001B[43minputs_tuple\u001B[49m\u001B[43m,\u001B[49m\n\u001B[0;32m    360\u001B[0m \u001B[43m    \u001B[49m\u001B[43mallow_unreachable\u001B[49m\u001B[38;5;241;43m=\u001B[39;49m\u001B[38;5;28;43;01mTrue\u001B[39;49;00m\u001B[43m,\u001B[49m\n\u001B[0;32m    361\u001B[0m \u001B[43m    \u001B[49m\u001B[43maccumulate_grad\u001B[49m\u001B[38;5;241;43m=\u001B[39;49m\u001B[38;5;28;43;01mTrue\u001B[39;49;00m\u001B[43m,\u001B[49m\n\u001B[0;32m    362\u001B[0m \u001B[43m\u001B[49m\u001B[43m)\u001B[49m\n",
      "File \u001B[1;32mC:\\projects\\ANN_studies\\.venv\\lib\\site-packages\\torch\\autograd\\graph.py:829\u001B[0m, in \u001B[0;36m_engine_run_backward\u001B[1;34m(t_outputs, *args, **kwargs)\u001B[0m\n\u001B[0;32m    827\u001B[0m     unregister_hooks \u001B[38;5;241m=\u001B[39m _register_logging_hooks_on_whole_graph(t_outputs)\n\u001B[0;32m    828\u001B[0m \u001B[38;5;28;01mtry\u001B[39;00m:\n\u001B[1;32m--> 829\u001B[0m     \u001B[38;5;28;01mreturn\u001B[39;00m Variable\u001B[38;5;241m.\u001B[39m_execution_engine\u001B[38;5;241m.\u001B[39mrun_backward(  \u001B[38;5;66;03m# Calls into the C++ engine to run the backward pass\u001B[39;00m\n\u001B[0;32m    830\u001B[0m         t_outputs, \u001B[38;5;241m*\u001B[39margs, \u001B[38;5;241m*\u001B[39m\u001B[38;5;241m*\u001B[39mkwargs\n\u001B[0;32m    831\u001B[0m     )  \u001B[38;5;66;03m# Calls into the C++ engine to run the backward pass\u001B[39;00m\n\u001B[0;32m    832\u001B[0m \u001B[38;5;28;01mfinally\u001B[39;00m:\n\u001B[0;32m    833\u001B[0m     \u001B[38;5;28;01mif\u001B[39;00m attach_logging_hooks:\n",
      "\u001B[1;31mKeyboardInterrupt\u001B[0m: "
     ]
    }
   ],
   "execution_count": 27
  },
  {
   "metadata": {},
   "cell_type": "code",
   "outputs": [],
   "execution_count": null,
   "source": "model_6.evaluate(x_test, y_test)",
   "id": "e4e2153ef70165fd"
  }
 ],
 "metadata": {
  "kernelspec": {
   "display_name": "Python 3",
   "language": "python",
   "name": "python3"
  },
  "language_info": {
   "codemirror_mode": {
    "name": "ipython",
    "version": 2
   },
   "file_extension": ".py",
   "mimetype": "text/x-python",
   "name": "python",
   "nbconvert_exporter": "python",
   "pygments_lexer": "ipython2",
   "version": "2.7.6"
  }
 },
 "nbformat": 4,
 "nbformat_minor": 5
}
